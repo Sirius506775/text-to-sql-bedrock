{
 "cells": [
  {
   "cell_type": "markdown",
   "metadata": {},
   "source": [
    "# Lab. 1-1 Basic Implementation"
   ]
  },
  {
   "cell_type": "markdown",
   "metadata": {},
   "source": [
    "## Database Test"
   ]
  },
  {
   "cell_type": "code",
   "execution_count": 1,
   "metadata": {},
   "outputs": [],
   "source": [
    "from sqlalchemy import create_engine, text, inspect\n",
    "from sqlalchemy.orm import Session"
   ]
  },
  {
   "cell_type": "code",
   "execution_count": 2,
   "metadata": {},
   "outputs": [
    {
     "name": "stdout",
     "output_type": "stream",
     "text": [
      "table_names:\n",
      " ['Album', 'Artist', 'Customer', 'Employee', 'Genre', 'Invoice', 'InvoiceLine', 'MediaType', 'Playlist', 'PlaylistTrack', 'Track']\n",
      "\n",
      "rows:\n",
      "(1, 'AC/DC')\n",
      "(2, 'Accept')\n",
      "(3, 'Aerosmith')\n",
      "(4, 'Alanis Morissette')\n",
      "(5, 'Alice In Chains')\n",
      "(6, 'Antônio Carlos Jobim')\n",
      "(7, 'Apocalyptica')\n",
      "(8, 'Audioslave')\n",
      "(9, 'BackBeat')\n",
      "(10, 'Billy Cobham')\n"
     ]
    }
   ],
   "source": [
    "engine = create_engine('sqlite:///../Chinook.db')\n",
    "\n",
    "# table names\n",
    "inspector = inspect(engine)\n",
    "table_names = inspector.get_table_names()\n",
    "print(\"table_names:\\n\", table_names)\n",
    "\n",
    "# simple query\n",
    "with Session(engine) as session:\n",
    "    result = session.execute(text(\"SELECT * FROM Artist LIMIT 10\"))\n",
    "    print(\"\\nrows:\")\n",
    "    for row in result:\n",
    "        print(row)"
   ]
  },
  {
   "cell_type": "markdown",
   "metadata": {},
   "source": [
    "## Bedrock Model Access"
   ]
  },
  {
   "cell_type": "code",
   "execution_count": 3,
   "metadata": {},
   "outputs": [],
   "source": [
    "import boto3\n",
    "from botocore.config import Config\n",
    "\n",
    "region_name = \"us-west-2\"\n",
    "llm_model = \"anthropic.claude-3-5-haiku-20241022-v1:0\"\n",
    "\n",
    "def init_boto3_client(region: str):\n",
    "    retry_config = Config(\n",
    "        region_name=region,\n",
    "        retries={\"max_attempts\": 10, \"mode\": \"standard\"}\n",
    "    )\n",
    "    return boto3.client(\"bedrock-runtime\", region_name=region, config=retry_config)\n",
    "\n",
    "def converse_with_bedrock(boto3_client, sys_prompt, usr_prompt):    \n",
    "    temperature = 0.0\n",
    "    top_p = 0.1\n",
    "    inference_config = {\"temperature\": temperature, \"topP\": top_p}\n",
    "    \n",
    "    response = boto3_client.converse(\n",
    "        modelId=llm_model, \n",
    "        messages=usr_prompt, \n",
    "        system=sys_prompt,\n",
    "        inferenceConfig=inference_config\n",
    "    )\n",
    "\n",
    "    return response['output']['message']['content'][0]['text']\n",
    "\n",
    "\n",
    "boto3_client = init_boto3_client(region_name)"
   ]
  },
  {
   "cell_type": "code",
   "execution_count": 4,
   "metadata": {},
   "outputs": [
    {
     "name": "stdout",
     "output_type": "stream",
     "text": [
      "I'm Claude, an AI created by Anthropic. I aim to be helpful, honest, and direct. How are you doing today?\n"
     ]
    }
   ],
   "source": [
    "test_sys_prompt = [{\n",
    "    \"text\": \"You are a cool assistant.\"\n",
    "}]\n",
    "\n",
    "test_user_prompt = [{\n",
    "    \"role\": \"user\",\n",
    "    \"content\": [{\"text\": \"Hi! What's your name?\"}]\n",
    "}]\n",
    "\n",
    "response = converse_with_bedrock(boto3_client, test_sys_prompt, test_user_prompt)\n",
    "print(response)"
   ]
  },
  {
   "cell_type": "markdown",
   "metadata": {},
   "source": [
    "## Basic Text-to-SQL Prompt"
   ]
  },
  {
   "cell_type": "code",
   "execution_count": 5,
   "metadata": {},
   "outputs": [
    {
     "name": "stdout",
     "output_type": "stream",
     "text": [
      "Table: Employee\n",
      "  - EmployeeId (INTEGER)\n",
      "  - LastName (NVARCHAR(20))\n",
      "  - FirstName (NVARCHAR(20))\n",
      "  - Title (NVARCHAR(30))\n",
      "  - ReportsTo (INTEGER)\n",
      "  - BirthDate (DATETIME)\n",
      "  - HireDate (DATETIME)\n",
      "  - Address (NVARCHAR(70))\n",
      "  - City (NVARCHAR(40))\n",
      "  - State (NVARCHAR(40))\n",
      "  - Country (NVARCHAR(40))\n",
      "  - PostalCode (NVARCHAR(10))\n",
      "  - Phone (NVARCHAR(24))\n",
      "  - Fax (NVARCHAR(24))\n",
      "  - Email (NVARCHAR(60))\n"
     ]
    }
   ],
   "source": [
    "def get_schema_info(db_path):\n",
    "    engine = create_engine(f'sqlite:///{db_path}')\n",
    "\n",
    "    inspector = inspect(engine)\n",
    "    schema_info = {}\n",
    "\n",
    "    tables = inspector.get_table_names()\n",
    "    for table_name in tables:\n",
    "        columns = inspector.get_columns(table_name)\n",
    "\n",
    "        table_info = f\"Table: {table_name}\\n\"\n",
    "        table_info += \"\\n\".join(f\"  - {col['name']} ({col['type']})\" for col in columns)\n",
    "        schema_info[table_name] = table_info\n",
    "\n",
    "    return schema_info\n",
    "\n",
    "schema = get_schema_info(\"../Chinook.db\")\n",
    "print(schema['Employee'])"
   ]
  },
  {
   "cell_type": "code",
   "execution_count": 6,
   "metadata": {},
   "outputs": [
    {
     "name": "stdout",
     "output_type": "stream",
     "text": [
      "SELECT \"Country\", SUM(\"Total\") as TotalSales\n",
      "FROM (\n",
      "    SELECT c.\"Country\", i.\"Total\"\n",
      "    FROM Customer c\n",
      "    JOIN Invoice i ON c.\"CustomerId\" = i.\"CustomerId\"\n",
      ")\n",
      "GROUP BY \"Country\"\n",
      "ORDER BY TotalSales DESC\n",
      "LIMIT 10;\n"
     ]
    }
   ],
   "source": [
    "dialect = \"sqlite\"\n",
    "top_k = 10\n",
    "table_info = schema['Customer']\n",
    "\n",
    "sys_prompt = [{\n",
    "    \"text\": f\"\"\"You are a {dialect} expert.\n",
    "Given an input question, first create a syntactically correct SQLite query to run.\n",
    "Unless the user specifies in the question a specific number of examples to obtain, query for at most {top_k} results using the LIMIT clause as per SQLite. You can order the results to return the most informative data in the database.\n",
    "Never query for all columns from a table. You must query only the columns that are needed to answer the question. Wrap each column name in double quotes (\") to denote them as delimited identifiers.\n",
    "Pay attention to use only the column names you can see in the tables below. Be careful to not query for columns that do not exist. Also, pay attention to which column is in which table.\n",
    "Pay attention to use date(\\'now\\') function to get the current date, if the question involves \"today\" \n",
    "    \n",
    "Only use the following tables:\n",
    "{table_info}\n",
    "\"\"\" \n",
    "}]\n",
    "\n",
    "\n",
    "def get_user_prompt(question):\n",
    "    return [{\n",
    "        \"role\": \"user\",\n",
    "        \"content\": [{\"text\": f\"Question:\\n{question}]\\n Skip the preamble and provide only the SQL.\"\n",
    "        }]\n",
    "    }]\n",
    "\n",
    "response = converse_with_bedrock(boto3_client, sys_prompt, get_user_prompt(\"List the total sales per country. Which country's customers spent the most?\"))\n",
    "sql_query = text(response)\n",
    "print(sql_query)\n"
   ]
  },
  {
   "cell_type": "code",
   "execution_count": 7,
   "metadata": {},
   "outputs": [
    {
     "name": "stdout",
     "output_type": "stream",
     "text": [
      "('USA', 523.0600000000003)\n",
      "('Canada', 303.9599999999999)\n",
      "('France', 195.09999999999994)\n",
      "('Brazil', 190.09999999999997)\n",
      "('Germany', 156.48)\n",
      "('United Kingdom', 112.85999999999999)\n",
      "('Czech Republic', 90.24000000000001)\n",
      "('Portugal', 77.23999999999998)\n",
      "('India', 75.25999999999999)\n",
      "('Chile', 46.62)\n"
     ]
    }
   ],
   "source": [
    "with Session(engine) as session:\n",
    "    result = session.execute(sql_query)\n",
    "    for row in result:\n",
    "        print(row)\n",
    "    "
   ]
  },
  {
   "cell_type": "markdown",
   "metadata": {},
   "source": [
    "## Chain-of-Thought Prompt"
   ]
  },
  {
   "cell_type": "markdown",
   "metadata": {},
   "source": []
  },
  {
   "cell_type": "code",
   "execution_count": 8,
   "metadata": {},
   "outputs": [
    {
     "name": "stdout",
     "output_type": "stream",
     "text": [
      "Table: Customer\n",
      "  - CustomerId (INTEGER)\n",
      "  - FirstName (NVARCHAR(40))\n",
      "  - LastName (NVARCHAR(20))\n",
      "  - Company (NVARCHAR(80))\n",
      "  - Address (NVARCHAR(70))\n",
      "  - City (NVARCHAR(40))\n",
      "  - State (NVARCHAR(40))\n",
      "  - Country (NVARCHAR(40))\n",
      "  - PostalCode (NVARCHAR(10))\n",
      "  - Phone (NVARCHAR(24))\n",
      "  - Fax (NVARCHAR(24))\n",
      "  - Email (NVARCHAR(60))\n",
      "  - SupportRepId (INTEGER)\n",
      "Table: Invoice\n",
      "  - InvoiceId (INTEGER)\n",
      "  - CustomerId (INTEGER)\n",
      "  - InvoiceDate (DATETIME)\n",
      "  - BillingAddress (NVARCHAR(70))\n",
      "  - BillingCity (NVARCHAR(40))\n",
      "  - BillingState (NVARCHAR(40))\n",
      "  - BillingCountry (NVARCHAR(40))\n",
      "  - BillingPostalCode (NVARCHAR(10))\n",
      "  - Total (NUMERIC(10, 2))\n"
     ]
    }
   ],
   "source": [
    "table_info = schema['Customer'] + \"\\n\" + schema['Invoice']\n",
    "print(table_info)"
   ]
  },
  {
   "cell_type": "code",
   "execution_count": 9,
   "metadata": {},
   "outputs": [],
   "source": [
    "example = \"\"\"\n",
    "<example>\n",
    "<query>\n",
    "Find the top 3 customers who have spent the most money in 2023, showing their names and total spending.\n",
    "</query> \n",
    "<thought_process> \n",
    "1. We need to join the Customer and Invoice tables. \n",
    "2. We'll sum up the Total from Invoice for each customer. \n",
    "3. We'll filter for invoices from the year 2023. \n",
    "4. We'll order by the total spending in descending order. \n",
    "5. We'll limit the results to the top 3 customers. \n",
    "</thought_process> \n",
    "<sql> \n",
    "SELECT c.FirstName, c.LastName, SUM(i.Total) AS TotalSpending FROM Customer c JOIN Invoice i ON c.CustomerId = i.CustomerId WHERE YEAR(i.InvoiceDate) = 2023 GROUP BY c.CustomerId, c.FirstName, c.LastName ORDER BY TotalSpending DESC LIMIT 3; \n",
    "</sql> \n",
    "</example> \n",
    "\n",
    "<example> \n",
    "<query>\n",
    "List all customers from the USA who have not made any purchases in the last 6 months.\n",
    "</query> \n",
    "<thought_process> \n",
    "1. We need to use both the Customer and Invoice tables. \n",
    "2. We'll filter for customers from the USA. \n",
    "3. We'll use a LEFT JOIN to include customers with no invoices. \n",
    "4. We'll check for the absence of recent invoices (within the last 6 months). \n",
    "5. We'll return the customer's full name and email. \n",
    "</thought_process> \n",
    "<sql> \n",
    "SELECT c.FirstName, c.LastName, c.Email FROM Customer c LEFT JOIN Invoice i ON c.CustomerId = i.CustomerId AND i.InvoiceDate >= DATE_SUB(CURDATE(), INTERVAL 6 MONTH) WHERE c.Country = 'USA' AND i.InvoiceId IS NULL; \n",
    "</sql> \n",
    "</example>\n",
    "\"\"\""
   ]
  },
  {
   "cell_type": "code",
   "execution_count": 10,
   "metadata": {},
   "outputs": [
    {
     "name": "stdout",
     "output_type": "stream",
     "text": [
      "<thought_process>\n",
      "1. We need to work with both Customer and Invoice tables\n",
      "2. First, we need to count customers per country to filter countries with >5 customers\n",
      "3. We need to calculate the average invoice total per country\n",
      "4. We'll need to use GROUP BY for the country\n",
      "5. We'll use HAVING to filter for countries with more than 5 customers\n",
      "6. Order the results by average total in descending order\n",
      "</thought_process>\n",
      "\n",
      "<sql>\n",
      "SELECT \n",
      "    c.\"Country\",\n",
      "    COUNT(DISTINCT c.\"CustomerId\") as \"CustomerCount\",\n",
      "    ROUND(AVG(i.\"Total\"), 2) as \"AverageTotal\"\n",
      "FROM Customer c\n",
      "LEFT JOIN Invoice i ON c.\"CustomerId\" = i.\"CustomerId\"\n",
      "GROUP BY c.\"Country\"\n",
      "HAVING COUNT(DISTINCT c.\"CustomerId\") > 5\n",
      "ORDER BY \"AverageTotal\" DESC;\n",
      "</sql>\n"
     ]
    }
   ],
   "source": [
    "llm_model = \"anthropic.claude-3-5-sonnet-20241022-v2:0\"\n",
    "\n",
    "sys_prompt = [{\n",
    "    \"text\": f\"\"\"You are a {dialect} expert.\n",
    "Given an input question, first create a syntactically correct SQLite query to run.\n",
    "Unless the user specifies in the question a specific number of examples to obtain, query for at most {top_k} results using the LIMIT clause as per SQLite. You can order the results to return the most informative data in the database.\n",
    "Never query for all columns from a table. You must query only the columns that are needed to answer the question. Wrap each column name in double quotes (\") to denote them as delimited identifiers.\n",
    "Pay attention to use only the column names you can see in the tables below. Be careful to not query for columns that do not exist. Also, pay attention to which column is in which table.\n",
    "Pay attention to use date(\\'now\\') function to get the current date, if the question involves \"today\" \n",
    "    \n",
    "<schema>\n",
    "{table_info}\n",
    "</schema>\n",
    "\n",
    "<examples>\n",
    "{example}\n",
    "</examples>\n",
    "\"\"\" \n",
    "}]\n",
    "\n",
    "\n",
    "def get_user_prompt(question):\n",
    "    return [{\n",
    "        \"role\": \"user\",\n",
    "        \"content\": [{\"text\": f\"<query>\\n{question}</query>]\"\n",
    "        }]\n",
    "    }]\n",
    "\n",
    "response = converse_with_bedrock(boto3_client, sys_prompt, get_user_prompt(\"Find the average invoice total for each country, but only for countries with more than 5 customers, ordered by the average total descending.\"))\n",
    "print(response)"
   ]
  },
  {
   "cell_type": "code",
   "execution_count": 11,
   "metadata": {},
   "outputs": [
    {
     "name": "stdout",
     "output_type": "stream",
     "text": [
      "Thought:\n",
      " 1. We need to work with both Customer and Invoice tables\n",
      "2. First, we need to count customers per country to filter countries with >5 customers\n",
      "3. We need to calculate the average invoice total per country\n",
      "4. We'll need to use GROUP BY for the country\n",
      "5. We'll use HAVING to filter for countries with more than 5 customers\n",
      "6. Order the results by average total in descending order\n",
      "\n",
      "SQL:\n",
      " SELECT \n",
      "    c.\"Country\",\n",
      "    COUNT(DISTINCT c.\"CustomerId\") as \"CustomerCount\",\n",
      "    ROUND(AVG(i.\"Total\"), 2) as \"AverageTotal\"\n",
      "FROM Customer c\n",
      "LEFT JOIN Invoice i ON c.\"CustomerId\" = i.\"CustomerId\"\n",
      "GROUP BY c.\"Country\"\n",
      "HAVING COUNT(DISTINCT c.\"CustomerId\") > 5\n",
      "ORDER BY \"AverageTotal\" DESC;\n"
     ]
    }
   ],
   "source": [
    "thought_process = response.split('<thought_process>')[1].split('</thought_process>')[0].strip()\n",
    "sql = response.split('<sql>')[1].split('</sql>')[0].strip()\n",
    "\n",
    "print(\"Thought:\\n\", thought_process)\n",
    "\n",
    "print(\"\\nSQL:\\n\", sql)"
   ]
  },
  {
   "cell_type": "code",
   "execution_count": 12,
   "metadata": {},
   "outputs": [
    {
     "name": "stdout",
     "output_type": "stream",
     "text": [
      "('USA', 13, 5.75)\n",
      "('Canada', 8, 5.43)\n"
     ]
    }
   ],
   "source": [
    "sql_query = text(sql)\n",
    "with Session(engine) as session:\n",
    "    result = session.execute(sql_query)\n",
    "    for row in result:\n",
    "        print(row)\n",
    "    "
   ]
  },
  {
   "cell_type": "markdown",
   "metadata": {},
   "source": [
    "## Dynamic Few Shot Samples"
   ]
  },
  {
   "cell_type": "code",
   "execution_count": 14,
   "metadata": {},
   "outputs": [],
   "source": [
    "examples = [\n",
    "    {\n",
    "        \"input\": \"List all artists.\", \n",
    "        \"query\": \"SELECT * FROM Artist;\"},\n",
    "    {\n",
    "        \"input\": \"Find all albums for the artist 'AC/DC'.\",\n",
    "        \"query\": \"SELECT * FROM Album WHERE ArtistId = (SELECT ArtistId FROM Artist WHERE Name = 'AC/DC');\",\n",
    "    },\n",
    "    {\n",
    "        \"input\": \"List all tracks in the 'Rock' genre.\",\n",
    "        \"query\": \"SELECT * FROM Track WHERE GenreId = (SELECT GenreId FROM Genre WHERE Name = 'Rock');\",\n",
    "    },\n",
    "    {\n",
    "        \"input\": \"Find the total duration of all tracks.\",\n",
    "        \"query\": \"SELECT SUM(Milliseconds) FROM Track;\",\n",
    "    },\n",
    "    {\n",
    "        \"input\": \"List all customers from Canada.\",\n",
    "        \"query\": \"SELECT * FROM Customer WHERE Country = 'Canada';\",\n",
    "    },\n",
    "    {\n",
    "        \"input\": \"How many tracks are there in the album with ID 5?\",\n",
    "        \"query\": \"SELECT COUNT(*) FROM Track WHERE AlbumId = 5;\",\n",
    "    },\n",
    "    {\n",
    "        \"input\": \"Find the total number of invoices.\",\n",
    "        \"query\": \"SELECT COUNT(*) FROM Invoice;\",\n",
    "    },\n",
    "    {\n",
    "        \"input\": \"List all tracks that are longer than 5 minutes.\",\n",
    "        \"query\": \"SELECT * FROM Track WHERE Milliseconds > 300000;\",\n",
    "    },\n",
    "    {\n",
    "        \"input\": \"Who are the top 5 customers by total purchase?\",\n",
    "        \"query\": \"SELECT CustomerId, SUM(Total) AS TotalPurchase FROM Invoice GROUP BY CustomerId ORDER BY TotalPurchase DESC LIMIT 5;\",\n",
    "    },\n",
    "    {\n",
    "        \"input\": \"How many employees are there\",\n",
    "        \"query\": 'SELECT COUNT(*) FROM \"Employee\"',\n",
    "    },\n",
    "]"
   ]
  },
  {
   "cell_type": "code",
   "execution_count": 18,
   "metadata": {},
   "outputs": [
    {
     "name": "stdout",
     "output_type": "stream",
     "text": [
      "{\n",
      "  \"input\": \"List all artists.\",\n",
      "  \"query\": \"SELECT * FROM Artist;\",\n",
      "  \"input_v\": \"[-0.045493729412555695, 0.01855963096022606, 0.02659459225833416]...\"\n",
      "}\n",
      "\n",
      "{\n",
      "  \"input\": \"Find all albums for the artist 'AC/DC'.\",\n",
      "  \"query\": \"SELECT * FROM Album WHERE ArtistId = (SELECT ArtistId FROM Artist WHERE Name = 'AC/DC');\",\n",
      "  \"input_v\": \"[0.0015671148430556059, 0.02450655587017536, 0.022804712876677513]...\"\n",
      "}\n",
      "\n",
      "{\n",
      "  \"input\": \"List all tracks in the 'Rock' genre.\",\n",
      "  \"query\": \"SELECT * FROM Track WHERE GenreId = (SELECT GenreId FROM Genre WHERE Name = 'Rock');\",\n",
      "  \"input_v\": \"[-0.05369335412979126, 0.01429151464253664, -0.01829848252236843]...\"\n",
      "}\n",
      "\n",
      "{\n",
      "  \"input\": \"Find the total duration of all tracks.\",\n",
      "  \"query\": \"SELECT SUM(Milliseconds) FROM Track;\",\n",
      "  \"input_v\": \"[-0.04504380747675896, 0.01568489708006382, -0.07158748060464859]...\"\n",
      "}\n",
      "\n",
      "{\n",
      "  \"input\": \"List all customers from Canada.\",\n",
      "  \"query\": \"SELECT * FROM Customer WHERE Country = 'Canada';\",\n",
      "  \"input_v\": \"[-0.08925836533308029, 0.03614963963627815, -0.02465762384235859]...\"\n",
      "}\n",
      "\n",
      "{\n",
      "  \"input\": \"How many tracks are there in the album with ID 5?\",\n",
      "  \"query\": \"SELECT COUNT(*) FROM Track WHERE AlbumId = 5;\",\n",
      "  \"input_v\": \"[-0.03132433444261551, 0.007282907608896494, -0.05262488126754761]...\"\n",
      "}\n",
      "\n",
      "{\n",
      "  \"input\": \"Find the total number of invoices.\",\n",
      "  \"query\": \"SELECT COUNT(*) FROM Invoice;\",\n",
      "  \"input_v\": \"[-0.03636728599667549, 0.00570410443469882, 0.018415281549096107]...\"\n",
      "}\n",
      "\n",
      "{\n",
      "  \"input\": \"List all tracks that are longer than 5 minutes.\",\n",
      "  \"query\": \"SELECT * FROM Track WHERE Milliseconds > 300000;\",\n",
      "  \"input_v\": \"[-0.05131032317876816, 0.027555543929338455, -0.04822220280766487]...\"\n",
      "}\n",
      "\n",
      "{\n",
      "  \"input\": \"Who are the top 5 customers by total purchase?\",\n",
      "  \"query\": \"SELECT CustomerId, SUM(Total) AS TotalPurchase FROM Invoice GROUP BY CustomerId ORDER BY TotalPurchase DESC LIMIT 5;\",\n",
      "  \"input_v\": \"[-0.06663550436496735, 0.031154261901974678, -0.018245436251163483]...\"\n",
      "}\n",
      "\n",
      "{\n",
      "  \"input\": \"How many employees are there\",\n",
      "  \"query\": \"SELECT COUNT(*) FROM \\\"Employee\\\"\",\n",
      "  \"input_v\": \"[-0.09272491186857224, 0.06430169939994812, -0.0049216425977647305]...\"\n",
      "}\n",
      "\n"
     ]
    }
   ],
   "source": [
    "import json\n",
    "\n",
    "embed_model = \"amazon.titan-embed-text-v2:0\"\n",
    "region_name = \"us-west-2\"\n",
    "\n",
    "def input_embedding(example):\n",
    "    for example in examples:\n",
    "        input_text = example['input']\n",
    "        query = example['query']\n",
    "\n",
    "        response = boto3_client.invoke_model(\n",
    "            modelId=embed_model,\n",
    "            body=json.dumps({\"inputText\": input_text})\n",
    "        )\n",
    "\n",
    "        # Data part\n",
    "        body = {\n",
    "            \"input\": input_text,\n",
    "            \"query\": query,\n",
    "            \"input_v\": json.loads(response['body'].read())['embedding']\n",
    "        }\n",
    "        memory_storage.append(body)\n",
    "\n",
    "memory_storage = []\n",
    "input_embedding(examples)\n",
    "\n",
    "for item in memory_storage:\n",
    "    truncated_item = item.copy()\n",
    "    truncated_item['input_v'] = str(item['input_v'][:3]) + '...' \n",
    "    print(json.dumps(truncated_item, indent=2))\n",
    "    print()"
   ]
  },
  {
   "cell_type": "code",
   "execution_count": 36,
   "metadata": {},
   "outputs": [
    {
     "name": "stdout",
     "output_type": "stream",
     "text": [
      "[-0.1028905063867569, 0.07878473401069641, 0.008488466963171959, -0.0003353128267917782, 0.015360083431005478]...\n"
     ]
    }
   ],
   "source": [
    "question = \"Let me know the 10 customers who purchased the most\"\n",
    "\n",
    "response = boto3_client.invoke_model(\n",
    "    modelId=embed_model,\n",
    "    body=json.dumps({\"inputText\": question})\n",
    ")\n",
    "question_v = json.loads(response['body'].read())['embedding']\n",
    "\n",
    "print(str(question_v[:5]) + '...')"
   ]
  },
  {
   "cell_type": "code",
   "execution_count": 37,
   "metadata": {},
   "outputs": [
    {
     "name": "stdout",
     "output_type": "stream",
     "text": [
      "Defaulting to user installation because normal site-packages is not writeable\n",
      "Requirement already satisfied: scipy in /home/ec2-user/.local/lib/python3.9/site-packages (1.13.1)\n",
      "Requirement already satisfied: numpy in /home/ec2-user/.local/lib/python3.9/site-packages (1.26.4)\n"
     ]
    }
   ],
   "source": [
    "!pip install scipy numpy"
   ]
  },
  {
   "cell_type": "code",
   "execution_count": 38,
   "metadata": {},
   "outputs": [
    {
     "name": "stdout",
     "output_type": "stream",
     "text": [
      "\n",
      "1. Score: 0.6425\n",
      "Input: Who are the top 5 customers by total purchase?\n",
      "Query: SELECT CustomerId, SUM(Total) AS TotalPurchase FROM Invoice GROUP BY CustomerId ORDER BY TotalPurchase DESC LIMIT 5;\n",
      "\n",
      "2. Score: 0.2385\n",
      "Input: List all customers from Canada.\n",
      "Query: SELECT * FROM Customer WHERE Country = 'Canada';\n",
      "\n",
      "3. Score: 0.1200\n",
      "Input: How many employees are there\n",
      "Query: SELECT COUNT(*) FROM \"Employee\"\n",
      "\n"
     ]
    }
   ],
   "source": [
    "import numpy as np\n",
    "from scipy.spatial.distance import cosine\n",
    "import heapq\n",
    "\n",
    "def find_most_similar_samples(question_v, memory_storage, top_k=3):\n",
    "    similar_docs = []\n",
    "\n",
    "    for doc in memory_storage:\n",
    "        # Cosine similarity \n",
    "        similarity = 1 - cosine(question_v, doc['input_v'])\n",
    "\n",
    "        if len(similar_docs) < top_k:\n",
    "            heapq.heappush(similar_docs, (similarity, doc))\n",
    "        elif similarity > similar_docs[0][0]:\n",
    "            heapq.heapreplace(similar_docs, (similarity, doc))\n",
    "\n",
    "\n",
    "    return sorted(similar_docs, key=lambda x: x[0], reverse=True)\n",
    "\n",
    "top_k = 3\n",
    "top_similar_samples = find_most_similar_samples(question_v, memory_storage, top_k)\n",
    "\n",
    "samples = \"\"\n",
    "for i, (similarity, doc) in enumerate(top_similar_samples, 1):\n",
    "    samples += f\"\\n{i}. Score: {similarity:.4f}\\n\"\n",
    "    samples += f\"Input: {doc['input']}\\n\"\n",
    "    samples += f\"Query: {doc['query']}\\n\"\n",
    "\n",
    "print(samples)    \n"
   ]
  },
  {
   "cell_type": "code",
   "execution_count": 40,
   "metadata": {},
   "outputs": [],
   "source": [
    "llm_model = \"anthropic.claude-3-5-sonnet-20241022-v2:0\"\n",
    "\n",
    "sys_prompt = [{\n",
    "    \"text\": f\"\"\"You are a {dialect} expert.\n",
    "Given an input question, first create a syntactically correct SQLite query to run.\n",
    "Unless the user specifies in the question a specific number of examples to obtain, query for at most {top_k} results using the LIMIT clause as per SQLite. You can order the results to return the most informative data in the database.\n",
    "Never query for all columns from a table. You must query only the columns that are needed to answer the question. Wrap each column name in double quotes (\") to denote them as delimited identifiers.\n",
    "Pay attention to use only the column names you can see in the tables below. Be careful to not query for columns that do not exist. Also, pay attention to which column is in which table.\n",
    "Pay attention to use date(\\'now\\') function to get the current date, if the question involves \"today\" \n",
    "    \n",
    "<schema>\n",
    "{table_info}\n",
    "</schema>\n",
    "\n",
    "<examples>\n",
    "{example}\n",
    "</examples>\n",
    "\n",
    "<samples_queries>\n",
    "{samples}\n",
    "<samples_queries>\n",
    "\"\"\" \n",
    "}]"
   ]
  },
  {
   "cell_type": "code",
   "execution_count": 39,
   "metadata": {},
   "outputs": [
    {
     "name": "stdout",
     "output_type": "stream",
     "text": [
      "I'll help you find the top 10 customers based on their total purchases by joining the Customer and Invoice tables to get their names along with their total spending.\n",
      "\n",
      "<thought_process>\n",
      "1. We need to join Customer and Invoice tables\n",
      "2. We'll sum up the Total amount from Invoice table for each customer\n",
      "3. We'll include customer's first and last name for identification\n",
      "4. Order by total purchase amount in descending order\n",
      "5. Limit to top 10 customers\n",
      "</thought_process>\n",
      "\n",
      "<sql>\n",
      "SELECT \n",
      "    c.\"FirstName\",\n",
      "    c.\"LastName\",\n",
      "    c.\"Email\",\n",
      "    ROUND(SUM(i.\"Total\"), 2) as \"TotalPurchase\"\n",
      "FROM \"Customer\" c\n",
      "JOIN \"Invoice\" i ON c.\"CustomerId\" = i.\"CustomerId\"\n",
      "GROUP BY c.\"CustomerId\", c.\"FirstName\", c.\"LastName\", c.\"Email\"\n",
      "ORDER BY \"TotalPurchase\" DESC\n",
      "LIMIT 10;\n",
      "</sql>\n",
      "\n",
      "This query will return:\n",
      "- Customer's first name\n",
      "- Customer's last name\n",
      "- Customer's email\n",
      "- Their total purchase amount (rounded to 2 decimal places)\n",
      "The results are ordered from highest to lowest total purchase amount, showing only the top 10 customers.\n"
     ]
    }
   ],
   "source": [
    "def get_user_prompt(question):\n",
    "    return [{\n",
    "        \"role\": \"user\",\n",
    "        \"content\": [{\"text\": f\"<query>\\n{question}</query>]\"\n",
    "        }]\n",
    "    }]\n",
    "\n",
    "response = converse_with_bedrock(boto3_client, sys_prompt, get_user_prompt(question))\n",
    "print(response)"
   ]
  },
  {
   "cell_type": "code",
   "execution_count": 41,
   "metadata": {},
   "outputs": [
    {
     "name": "stdout",
     "output_type": "stream",
     "text": [
      "('Helena', 'Holý', 'hholy@gmail.com', 49.62)\n",
      "('Richard', 'Cunningham', 'ricunningham@hotmail.com', 47.62)\n",
      "('Luis', 'Rojas', 'luisrojas@yahoo.cl', 46.62)\n",
      "('Ladislav', 'Kovács', 'ladislav_kovacs@apple.hu', 45.62)\n",
      "('Hugh', \"O'Reilly\", 'hughoreilly@apple.ie', 45.62)\n",
      "('Frank', 'Ralston', 'fralston@gmail.com', 43.62)\n",
      "('Julia', 'Barnett', 'jubarnett@gmail.com', 43.62)\n",
      "('Fynn', 'Zimmermann', 'fzimmermann@yahoo.de', 43.62)\n",
      "('Astrid', 'Gruber', 'astrid.gruber@apple.at', 42.62)\n",
      "('Victor', 'Stevens', 'vstevens@yahoo.com', 42.62)\n"
     ]
    }
   ],
   "source": [
    "sql = response.split('<sql>')[1].split('</sql>')[0].strip()\n",
    "\n",
    "sql_query = text(sql)\n",
    "with Session(engine) as session:\n",
    "    result = session.execute(sql_query)\n",
    "    for row in result:\n",
    "        print(row) "
   ]
  }
 ],
 "metadata": {
  "kernelspec": {
   "display_name": "Python 3",
   "language": "python",
   "name": "python3"
  },
  "language_info": {
   "codemirror_mode": {
    "name": "ipython",
    "version": 3
   },
   "file_extension": ".py",
   "mimetype": "text/x-python",
   "name": "python",
   "nbconvert_exporter": "python",
   "pygments_lexer": "ipython3",
   "version": "3.9.16"
  }
 },
 "nbformat": 4,
 "nbformat_minor": 2
}
