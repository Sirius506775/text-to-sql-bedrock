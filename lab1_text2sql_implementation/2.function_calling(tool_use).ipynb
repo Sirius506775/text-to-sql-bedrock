{
 "cells": [
  {
   "cell_type": "markdown",
   "metadata": {},
   "source": [
    "# Lab. 1-2 Function Calling"
   ]
  },
  {
   "cell_type": "markdown",
   "metadata": {},
   "source": [
    "## Initialize Bedrock "
   ]
  },
  {
   "cell_type": "code",
   "execution_count": 15,
   "metadata": {},
   "outputs": [],
   "source": [
    "import boto3\n",
    "from botocore.config import Config\n",
    "\n",
    "from sqlalchemy import create_engine, text, inspect\n",
    "from sqlalchemy.orm import Session"
   ]
  },
  {
   "cell_type": "code",
   "execution_count": 3,
   "metadata": {},
   "outputs": [],
   "source": [
    "region_name = 'us-west-2'\n",
    "llm_model = \"anthropic.claude-3-5-sonnet-20241022-v2:0\"\n",
    "\n",
    "boto3_client = boto3.client(\"bedrock-runtime\", region_name=region_name)"
   ]
  },
  {
   "cell_type": "code",
   "execution_count": 5,
   "metadata": {},
   "outputs": [],
   "source": [
    "def converse_with_bedrock(sys_prompt, usr_prompt):    \n",
    "    temperature = 0.0\n",
    "    top_p = 0.1\n",
    "    inference_config = {\"temperature\": temperature, \"topP\": top_p}\n",
    "    \n",
    "    response = boto3_client.converse(\n",
    "        modelId=llm_model, \n",
    "        messages=usr_prompt, \n",
    "        system=sys_prompt,\n",
    "        inferenceConfig=inference_config\n",
    "    )\n",
    "\n",
    "    return response['output']['message']['content'][0]['text']"
   ]
  },
  {
   "cell_type": "markdown",
   "metadata": {},
   "source": [
    "## Developing the Text2SQL modules"
   ]
  },
  {
   "cell_type": "markdown",
   "metadata": {},
   "source": [
    "#### List Tables"
   ]
  },
  {
   "cell_type": "code",
   "execution_count": 10,
   "metadata": {},
   "outputs": [
    {
     "name": "stdout",
     "output_type": "stream",
     "text": [
      "Table: Album\n",
      "Description: Stores album data with unique ID, title, and links to artist via artist ID.\n",
      "\n",
      "Table: Artist\n",
      "Description: Holds artist information with an ID and name.\n",
      "\n",
      "Table: Customer\n",
      "Description: Contains customer details and links to their support representative.\n",
      "\n",
      "Table: Employee\n",
      "Description: Stores employee details, including their supervisory chain.\n",
      "\n",
      "Table: Genre\n",
      "Description: Catalogs music genres with a unique identifier and name.\n",
      "\n",
      "Table: Invoice\n",
      "Description: Records details of transactions, linked to customers.\n",
      "\n",
      "Table: InvoiceLine\n",
      "Description: Details each line item on an invoice, linked to tracks and invoices.\n",
      "\n",
      "Table: MediaType\n",
      "Description: Defines types of media for tracks.\n",
      "\n",
      "Table: Playlist\n",
      "Description: Organizes tracks into playlists.\n",
      "\n",
      "Table: PlaylistTrack\n",
      "Description: Links tracks to playlists.\n",
      "\n",
      "Table: Track\n",
      "Description: Stores detailed information about music tracks, linked to albums, genres, and media types.\n",
      "\n"
     ]
    }
   ],
   "source": [
    "import json\n",
    "\n",
    "uri = \"sqlite:///../Chinook.db\"\n",
    "\n",
    "def get_table_info():\n",
    "    with open('chinook_schema.json', 'r') as file:\n",
    "        schema_data = json.load(file)\n",
    "\n",
    "    tables_dict = {}\n",
    "    for table_info in schema_data:\n",
    "        for table_name, table_data in table_info.items():\n",
    "            tables_dict[table_name] = table_data['table_desc']\n",
    "\n",
    "    return tables_dict\n",
    "\n",
    "# Test\n",
    "table_info = get_table_info()\n",
    "for table_name, table_desc in table_info.items():\n",
    "    print(f\"Table: {table_name}\")\n",
    "    print(f\"Description: {table_desc}\")\n",
    "    print()"
   ]
  },
  {
   "cell_type": "markdown",
   "metadata": {},
   "source": [
    "#### List Columns"
   ]
  },
  {
   "cell_type": "code",
   "execution_count": 11,
   "metadata": {},
   "outputs": [
    {
     "data": {
      "text/plain": [
       "{'Album': {'AlbumId': 'Primary key, unique identifier for the album.',\n",
       "  'Title': 'Title of the album.',\n",
       "  'ArtistId': 'Foreign key that references the artist of the album.'},\n",
       " 'Customer': {'CustomerId': 'Primary key, unique customer identifier.',\n",
       "  'FirstName': 'First name of the customer.',\n",
       "  'LastName': 'Last name of the customer.',\n",
       "  'Company': 'Company of the customer.',\n",
       "  'Address': 'Address of the customer.',\n",
       "  'City': 'City of the customer.',\n",
       "  'State': 'State of the customer.',\n",
       "  'Country': 'Country of the customer.',\n",
       "  'PostalCode': 'Postal code of the customer.',\n",
       "  'Phone': 'Phone number of the customer.',\n",
       "  'Fax': 'Fax number of the customer.',\n",
       "  'Email': 'Email address of the customer.',\n",
       "  'SupportRepId': 'Foreign key that references the employee who supports this customer.'}}"
      ]
     },
     "execution_count": 11,
     "metadata": {},
     "output_type": "execute_result"
    }
   ],
   "source": [
    "def get_table_columns(tables=None):\n",
    "    with open('chinook_schema.json', 'r') as file:\n",
    "        schema_data = json.load(file)\n",
    "\n",
    "    table_columns = {}\n",
    "\n",
    "    for table_info in schema_data:\n",
    "        for table_name, table_data in table_info.items():\n",
    "            if tables is None or table_name in tables:\n",
    "                column_info = {}\n",
    "                for col in table_data['cols']:\n",
    "                    column_info[col['col']] = col['col_desc']\n",
    "                table_columns[table_name] = column_info\n",
    "\n",
    "    return table_columns\n",
    "\n",
    "# Test\n",
    "tables = [\"Album\", \"Customer\"]\n",
    "get_table_columns(tables)"
   ]
  },
  {
   "cell_type": "markdown",
   "metadata": {},
   "source": [
    "#### Query Evaluation"
   ]
  },
  {
   "cell_type": "code",
   "execution_count": 13,
   "metadata": {},
   "outputs": [
    {
     "name": "stdout",
     "output_type": "stream",
     "text": [
      "SELECT \n",
      "    c.\"Country\",\n",
      "    COUNT(DISTINCT c.\"CustomerId\") as \"CustomerCount\",\n",
      "    ROUND(AVG(i.\"Total\"), 2) as \"AverageTotal\"\n",
      "FROM Customer c\n",
      "LEFT JOIN Invoice i ON c.\"CustomerId\" = i.\"CustomerId\"\n",
      "GROUP BY c.\"Country\"\n",
      "HAVING COUNT(DISTINCT c.\"CustomerId\") > 5\n",
      "ORDER BY \"AverageTotal\" DESC;\n"
     ]
    }
   ],
   "source": [
    "def query_checker(question: str, sql_query: str, dialect: str):\n",
    "    sys_prompt = [{\n",
    "        \"text\": f\"\"\"\n",
    "            Double check the {dialect} query above for common mistakes, including:\n",
    "            - Using NOT IN with NULL values\n",
    "            - Using UNION when UNION ALL should have been used\n",
    "            - Using BETWEEN for exclusive ranges\n",
    "            - Data type mismatch in predicates\n",
    "            - Properly quoting identifiers\n",
    "            - Using the correct number of arguments for functions\n",
    "            - Casting to the correct data type\n",
    "            - Using the proper columns for joins\n",
    "\n",
    "            If there are any of the above mistakes, rewrite the query. If there are no mistakes, just reproduce the original query.\"\"\" \n",
    "    }] \n",
    "    \n",
    "    user_prompt = [{\n",
    "        \"role\": \"user\",\n",
    "        \"content\": [{\"text\": f\"question: {question}\\n query: {sql_query}\\n\\n Skip the preamble and provide only the final SQL query. ]\"}]\n",
    "    }]\n",
    "\n",
    "    response = converse_with_bedrock(sys_prompt, user_prompt)\n",
    "    return response\n",
    "\n",
    "\n",
    "question = \"Find the average invoice total for each country, but only for countries with more than 5 customers, ordered by the average total descending.\"\n",
    "sql_query = \"\"\"SELECT \n",
    "    c.\"Country\",\n",
    "    COUNT(DISTINCT c.\"CustomerId\") as \"CustomerCount\",\n",
    "    ROUND(AVG(i.\"Total\"), 2) as \"AverageTotal\"\n",
    "FROM Customer c\n",
    "LEFT JOIN Invoice i ON c.\"CustomerId\" = i.\"CustomerId\"\n",
    "GROUP BY c.\"Country\"\n",
    "HAVING COUNT(DISTINCT c.\"CustomerId\") > 5\n",
    "ORDER BY \"AverageTotal\" DESC;\"\"\"\n",
    "\n",
    "dialect = \"sqlite\"\n",
    "\n",
    "response = query_checker(question, sql_query, dialect)\n",
    "print(response)"
   ]
  },
  {
   "cell_type": "markdown",
   "metadata": {},
   "source": [
    "#### Query Execution"
   ]
  },
  {
   "cell_type": "code",
   "execution_count": 16,
   "metadata": {},
   "outputs": [
    {
     "name": "stdout",
     "output_type": "stream",
     "text": [
      "Country,CustomerCount,AverageTotal\n",
      "USA,13,5.75\n",
      "Canada,8,5.43\n",
      "\n"
     ]
    }
   ],
   "source": [
    "import pandas as pd\n",
    "from typing import List\n",
    "\n",
    "def query_executor(query: str, output_columns: List[str]):\n",
    "    engine = create_engine(uri)\n",
    "\n",
    "    try:\n",
    "        with engine.connect() as connection:\n",
    "            result = connection.execute(text(query))\n",
    "\n",
    "            if result.returns_rows:\n",
    "                df = pd.DataFrame(result.fetchall(), columns=output_columns)\n",
    "                return df.to_csv(index=False)\n",
    "            else:\n",
    "                return None\n",
    "    except Exception as e:\n",
    "        print(f\"An error occurred: {str(e)}\")\n",
    "        return None\n",
    "    finally:\n",
    "        engine.dispose()\n",
    "\n",
    "query = \"\"\"SELECT \n",
    "    c.\"Country\",\n",
    "    COUNT(DISTINCT c.\"CustomerId\") as \"CustomerCount\",\n",
    "    ROUND(AVG(i.\"Total\"), 2) as \"AverageTotal\"\n",
    "FROM Customer c\n",
    "LEFT JOIN Invoice i ON c.\"CustomerId\" = i.\"CustomerId\"\n",
    "GROUP BY c.\"Country\"\n",
    "HAVING COUNT(DISTINCT c.\"CustomerId\") > 5\n",
    "ORDER BY \"AverageTotal\" DESC;\"\"\"\n",
    "\n",
    "output_columns = [\"Country\", \"CustomerCount\", \"AverageTotal\"]\n",
    "response = query_executor(query, output_columns)\n",
    "\n",
    "print(response)"
   ]
  },
  {
   "cell_type": "markdown",
   "metadata": {},
   "source": []
  }
 ],
 "metadata": {
  "kernelspec": {
   "display_name": "Python 3",
   "language": "python",
   "name": "python3"
  },
  "language_info": {
   "codemirror_mode": {
    "name": "ipython",
    "version": 3
   },
   "file_extension": ".py",
   "mimetype": "text/x-python",
   "name": "python",
   "nbconvert_exporter": "python",
   "pygments_lexer": "ipython3",
   "version": "3.9.16"
  }
 },
 "nbformat": 4,
 "nbformat_minor": 2
}
