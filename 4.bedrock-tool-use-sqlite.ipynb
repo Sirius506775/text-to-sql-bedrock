{
 "cells": [
  {
   "cell_type": "markdown",
   "metadata": {},
   "source": [
    "# Text-to-SQL using Tool Use\n",
    "이 섹션에서는 AWS와 상호 작용하기 위한 boto3, 로그를 캡처하기 위한 logging, 그리고 오류 처리를 위한 botocore를 포함한 필요한 라이브러리를 임포트합니다."
   ]
  },
  {
   "cell_type": "code",
   "execution_count": null,
   "metadata": {},
   "outputs": [],
   "source": [
    "!pip install \"boto3>=1.34.116\"\n",
    "!pip install -q langchain langchain-aws langchain-core langchain-community\n",
    "# Restart Kernel after installation"
   ]
  },
  {
   "cell_type": "code",
   "execution_count": 1,
   "metadata": {},
   "outputs": [],
   "source": [
    "import boto3\n",
    "import logging\n",
    "from botocore.config import Config\n",
    "from botocore.exceptions import ClientError\n",
    "\n",
    "\n",
    "class StationNotFoundError(Exception):\n",
    "    \"\"\"Raised when a radio station isn't found.\"\"\"\n",
    "    pass\n",
    "\n",
    "\n",
    "logger = logging.getLogger(__name__)\n",
    "logging.basicConfig(level=logging.INFO)"
   ]
  },
  {
   "cell_type": "markdown",
   "metadata": {},
   "source": [
    "### Amazon Bedrock 클라이언트 생성\n",
    "이 섹션에서는 재시도 설정으로 AWS 클라이언트를 구성하고 'bedrock-runtime' 서비스에 대한 boto3 클라이언트를 생성합니다."
   ]
  },
  {
   "cell_type": "code",
   "execution_count": 3,
   "metadata": {},
   "outputs": [
    {
     "name": "stderr",
     "output_type": "stream",
     "text": [
      "INFO:botocore.credentials:Found credentials from IAM Role: SSMInstanceProfile\n"
     ]
    }
   ],
   "source": [
    "region_name = 'us-east-1'\n",
    "retry_config = Config(\n",
    "    region_name=region_name,\n",
    "    retries={\n",
    "        \"max_attempts\": 10,\n",
    "        \"mode\": \"standard\",\n",
    "    },\n",
    ")\n",
    "client = boto3.client(\"bedrock-runtime\", region_name=region_name, config=retry_config)"
   ]
  },
  {
   "cell_type": "markdown",
   "metadata": {},
   "source": [
    "### Text-to-SQL을 위한 Tool 정의\n",
    "- list_db_tables\n",
    "- desc_table_ciolumns\n",
    "- query_checker\n",
    "- query_executor\n"
   ]
  },
  {
   "cell_type": "code",
   "execution_count": 4,
   "metadata": {},
   "outputs": [],
   "source": [
    "from typing import List, Dict\n",
    "from sqlalchemy import create_engine\n",
    "from sqlalchemy.exc import SQLAlchemyError\n",
    "from langchain_community.utilities import SQLDatabase\n",
    "from langchain_core.messages import HumanMessage, SystemMessage\n",
    "from langchain_aws import ChatBedrock\n",
    "import pandas as pd\n",
    "import ast\n",
    "\n",
    "def list_db_tables(uri: str) -> Dict[str, str]:\n",
    "    try:\n",
    "        engine = create_engine(uri)\n",
    "        db = SQLDatabase(engine)\n",
    "        \n",
    "        table_names = db.get_usable_table_names()\n",
    "        tables_dict = {table_name: \"desc\" for table_name in table_names}\n",
    "        return tables_dict\n",
    "    except SQLAlchemyError as e:\n",
    "        print(f\"Error: {e}\")\n",
    "        return {}\n",
    "\n",
    "def desc_table_columns(uri: str, tables: List[str]) -> Dict[str, List[str]]:\n",
    "    try:\n",
    "        engine = create_engine(uri)\n",
    "        db = SQLDatabase(engine)\n",
    "        \n",
    "        metadata = db._metadata\n",
    "        metadata.reflect(bind=engine, only=tables)\n",
    "        \n",
    "        table_columns = {}\n",
    "        \n",
    "        for table in tables:\n",
    "            if table in metadata.tables:\n",
    "                table_obj = metadata.tables[table]\n",
    "                column_names = [col.name for col in table_obj.columns]\n",
    "                table_columns[table] = column_names\n",
    "            else:\n",
    "                table_columns[table] = []\n",
    "\n",
    "        return table_columns\n",
    "    except SQLAlchemyError as e:\n",
    "        print(f\"Error: {e}\")\n",
    "        return {}\n",
    "\n",
    "def query_checker(query: str, dialect: str, model_id=\"meta.llama3-70b-instruct-v1:0\"):\n",
    "    chat = ChatBedrock(\n",
    "        model_id=model_id,\n",
    "        region_name=region_name,\n",
    "        model_kwargs={\"temperature\": 0.1},\n",
    "    )\n",
    "    message = [\n",
    "        SystemMessage(\n",
    "            content=\"\"\"\n",
    "            Double check the {dialect} query above for common mistakes, including:\n",
    "            - Using NOT IN with NULL values\n",
    "            - Using UNION when UNION ALL should have been used\n",
    "            - Using BETWEEN for exclusive ranges\n",
    "            - Data type mismatch in predicates\n",
    "            - Properly quoting identifiers\n",
    "            - Using the correct number of arguments for functions\n",
    "            - Casting to the correct data type\n",
    "            - Using the proper columns for joins\n",
    "\n",
    "            If there are any of the above mistakes, rewrite the query. If there are no mistakes, just reproduce the original query.\n",
    "\n",
    "            Output the final SQL query only. \"\"\".format(dialect=dialect)\n",
    "        ),\n",
    "        HumanMessage(\n",
    "            content=query\n",
    "        )\n",
    "    ]\n",
    "    res = chat.invoke(message).content\n",
    "    return res\n",
    "\n",
    "def query_executor(uri: str, query: str, output_columns: List[str]):\n",
    "    engine = create_engine(uri)\n",
    "    db = SQLDatabase(engine)\n",
    "\n",
    "    data = db.run_no_throw(query)\n",
    "    data = ast.literal_eval(data)\n",
    "    if data:\n",
    "        df = pd.DataFrame(data, columns=output_columns)  \n",
    "        return df.to_csv(index=False)\n",
    "    else:\n",
    "        return None"
   ]
  },
  {
   "cell_type": "markdown",
   "metadata": {},
   "source": [
    "### System Prompt 정의"
   ]
  },
  {
   "cell_type": "code",
   "execution_count": 5,
   "metadata": {},
   "outputs": [],
   "source": [
    "system_prompts = [\n",
    "    {\n",
    "        \"text\":\"\"\"\n",
    "            You are a helpful assistant tasked with answering user queries efficiently.\n",
    "            Use the provided tools to progress towards answering the question. \n",
    "            Based on the user's question, compose a SQLite query if necessary, examine the results, and then provide an answer. \n",
    "            Provide a final answer to the user's question with specific data and include the SQL query used to obtain it within a Markdown code block. \n",
    "        \"\"\"\n",
    "    }\n",
    "]"
   ]
  },
  {
   "cell_type": "markdown",
   "metadata": {},
   "source": [
    "### Tool 모듈 별 테스트"
   ]
  },
  {
   "cell_type": "code",
   "execution_count": 6,
   "metadata": {},
   "outputs": [],
   "source": [
    "input_text = \"2022년 매출 상위 10개 국가를 알려줘\"\n",
    "uri=\"sqlite:///Chinook.db\"\n",
    "dialect = \"sqlite\""
   ]
  },
  {
   "cell_type": "code",
   "execution_count": 7,
   "metadata": {},
   "outputs": [
    {
     "name": "stdout",
     "output_type": "stream",
     "text": [
      "tables: {'Album': 'desc', 'Artist': 'desc', 'Customer': 'desc', 'Employee': 'desc', 'Genre': 'desc', 'Invoice': 'desc', 'InvoiceLine': 'desc', 'MediaType': 'desc', 'Playlist': 'desc', 'PlaylistTrack': 'desc', 'Track': 'desc'}\n"
     ]
    }
   ],
   "source": [
    "tables = list_db_tables(uri)\n",
    "print(\"tables:\", tables)\n",
    "\n",
    "## ReAct - Select Tables (Invoice, Customer)"
   ]
  },
  {
   "cell_type": "code",
   "execution_count": 8,
   "metadata": {},
   "outputs": [
    {
     "name": "stdout",
     "output_type": "stream",
     "text": [
      "columns: {'Invoice': ['InvoiceId', 'CustomerId', 'InvoiceDate', 'BillingAddress', 'BillingCity', 'BillingState', 'BillingCountry', 'BillingPostalCode', 'Total'], 'Customer': ['CustomerId', 'FirstName', 'LastName', 'Company', 'Address', 'City', 'State', 'Country', 'PostalCode', 'Phone', 'Fax', 'Email', 'SupportRepId']}\n"
     ]
    }
   ],
   "source": [
    "tables = [\"Invoice\", \"Customer\"]\n",
    "columns = desc_table_columns(uri, tables)\n",
    "print(\"columns:\", columns)\n",
    "\n",
    "## ReAct - Select Columns and Compose a query"
   ]
  },
  {
   "cell_type": "code",
   "execution_count": 9,
   "metadata": {},
   "outputs": [
    {
     "name": "stderr",
     "output_type": "stream",
     "text": [
      "INFO:botocore.credentials:Found credentials from IAM Role: SSMInstanceProfile\n"
     ]
    },
    {
     "name": "stdout",
     "output_type": "stream",
     "text": [
      "Country,TotalSales\n",
      "USA,102.97999999999999\n",
      "Canada,76.25999999999999\n",
      "Brazil,41.6\n",
      "France,39.599999999999994\n",
      "Hungary,32.75\n",
      "United Kingdom,30.69\n",
      "Austria,27.77\n",
      "Germany,25.740000000000002\n",
      "Chile,17.91\n",
      "India,17.83\n",
      "\n"
     ]
    }
   ],
   "source": [
    "query = \"\"\"SELECT c.Country, SUM(i.Total) AS TotalSales  \n",
    "FROM Invoice i  \n",
    "JOIN Customer c ON i.CustomerId = c.CustomerId  \n",
    "WHERE strftime('%Y', i.InvoiceDate) = '2022'  \n",
    "GROUP BY c.Country  \n",
    "ORDER BY TotalSales DESC  \n",
    "LIMIT 10;\"\"\"\n",
    "\n",
    "final_query = query_checker(query=query, dialect=dialect)\n",
    "answer = query_executor(uri, final_query, output_columns=['Country', 'TotalSales'])\n",
    "print(answer)"
   ]
  },
  {
   "cell_type": "markdown",
   "metadata": {},
   "source": [
    "### Tool 스펙 정의 (ToolConfig)"
   ]
  },
  {
   "cell_type": "code",
   "execution_count": 12,
   "metadata": {},
   "outputs": [],
   "source": [
    "tool_config = {\n",
    "    \"tools\": [\n",
    "        {\n",
    "            \"toolSpec\": {\n",
    "                \"name\": \"list_tables\",\n",
    "                \"description\": \"Get tables names and descriptions.\",\n",
    "                \"inputSchema\": {\n",
    "                    \"json\": {\n",
    "                        \"type\": \"object\",\n",
    "                        \"properties\": {\n",
    "                            \"uri\": {\n",
    "                                \"type\": \"string\",\n",
    "                                \"description\": \"database uri for which you want to access\"\n",
    "                            }\n",
    "                        },\n",
    "                        \"required\": [\n",
    "                            \"uri\"\n",
    "                        ]\n",
    "                    }\n",
    "                }\n",
    "            }\n",
    "        },\n",
    "        {\n",
    "            \"toolSpec\": {\n",
    "                \"name\": \"desc_columns\",\n",
    "                \"description\": \"\"\"\n",
    "                Input is a list of tables, output is the description about the DB schemas and sample rows for those tables.\n",
    "                Use this tool before generating a query. Be sure that the tables actually exist by using 'list_tables' tool first!\n",
    "                \"\"\",\n",
    "                \"inputSchema\": {\n",
    "                    \"json\": {\n",
    "                        \"type\": \"object\",\n",
    "                        \"properties\": {\n",
    "                            \"uri\": {\n",
    "                                \"type\": \"string\",\n",
    "                                \"description\": \"database uri for which you want to access\"\n",
    "                            },\n",
    "                            \"tables\": {\n",
    "                                \"type\": \"array\",\n",
    "                                \"items\": {\n",
    "                                    \"type\": \"string\"\n",
    "                                },\n",
    "                                \"description\": \"list of table names for which you want to get column descriptions\"\n",
    "                            }\n",
    "                        },\n",
    "                        \"required\": [\n",
    "                            \"uri\",\n",
    "                            \"tables\"\n",
    "                        ]\n",
    "                    }\n",
    "                }\n",
    "            }\n",
    "        },\n",
    "        {\n",
    "            \"toolSpec\": {\n",
    "                \"name\": \"query_checker\",\n",
    "                \"description\": \"\"\"\n",
    "                Use an LLM to check if a query is correct.\n",
    "                Always use this tool before executing a query with sql_db_query!\n",
    "                \"\"\",\n",
    "                \"inputSchema\": {\n",
    "                    \"json\": {\n",
    "                        \"type\": \"object\",\n",
    "                        \"properties\": {\n",
    "                            \"query\": {\n",
    "                                \"type\": \"string\",\n",
    "                                \"description\": \"The SQL query to check\"\n",
    "                            },\n",
    "                            \"dialect\": {\n",
    "                                \"type\": \"string\",\n",
    "                                \"description\": \"The SQL dialect of the database\"\n",
    "                            }\n",
    "                        },\n",
    "                        \"required\": [\n",
    "                            \"query\",\n",
    "                            \"dialect\"\n",
    "                        ]\n",
    "                    }\n",
    "                }\n",
    "            }\n",
    "        },\n",
    "        {\n",
    "            \"toolSpec\": {\n",
    "                \"name\": \"query_executor\",\n",
    "                \"description\": \"\"\"\n",
    "                Execute a SQL query against the database and get back the result.\n",
    "                If the query is not correct, an error message will be returned. If an error is returned, rewrite the query, check the query, and try again.\n",
    "                Only one statement can be executed at a time, so if multiple queries need to be executed, use this tool repeatedly.\n",
    "                \"\"\",\n",
    "                \"inputSchema\": {\n",
    "                    \"json\": {\n",
    "                        \"type\": \"object\",\n",
    "                        \"properties\": {\n",
    "                            \"uri\": {\n",
    "                                \"type\": \"string\",\n",
    "                                \"description\": \"database uri for which you want to access\"\n",
    "                            },\n",
    "                            \"query\": {\n",
    "                                \"type\": \"string\",\n",
    "                                \"description\": \"The SQL query to execute\"\n",
    "                            },\n",
    "                            \"output_columns\": {\n",
    "                                \"type\": \"array\",\n",
    "                                \"descriptions\": \"The column names expected in the output\"\n",
    "                            }\n",
    "                        },\n",
    "                        \"required\": [\n",
    "                            \"uri\",\n",
    "                            \"query\",\n",
    "                            \"output_columns\"\n",
    "                        ]\n",
    "                    }\n",
    "                }\n",
    "            }\n",
    "        }\n",
    "    ]\n",
    "}\n"
   ]
  },
  {
   "cell_type": "markdown",
   "metadata": {},
   "source": [
    "### ConverseAPI 호출 - Streaming 응답의 결과 파싱"
   ]
  },
  {
   "cell_type": "code",
   "execution_count": 14,
   "metadata": {},
   "outputs": [],
   "source": [
    "import json\n",
    "import logging\n",
    "\n",
    "logger = logging.getLogger(__name__)\n",
    "\n",
    "def stream_messages(bedrock_client, model_id, messages, tool_config):\n",
    "    #logger.info(\"Streaming messages with model %s\", model_id)\n",
    "    response = bedrock_client.converse_stream(\n",
    "        modelId=model_id,\n",
    "        messages=messages,\n",
    "        system=system_prompts,\n",
    "        toolConfig=tool_config\n",
    "    )\n",
    "\n",
    "    stop_reason = \"\"\n",
    " \n",
    "    message = {}\n",
    "    content = []\n",
    "    message['content'] = content\n",
    "    text = ''\n",
    "    tool_use = {}\n",
    "\n",
    "    #stream the response into a message.\n",
    "    for chunk in response['stream']:\n",
    "        if 'messageStart' in chunk:\n",
    "            message['role'] = chunk['messageStart']['role']\n",
    "        elif 'contentBlockStart' in chunk:\n",
    "            tool = chunk['contentBlockStart']['start']['toolUse']\n",
    "            tool_use['toolUseId'] = tool['toolUseId']\n",
    "            tool_use['name'] = tool['name']\n",
    "        elif 'contentBlockDelta' in chunk:\n",
    "            delta = chunk['contentBlockDelta']['delta']\n",
    "            if 'toolUse' in delta:\n",
    "                if 'input' not in tool_use:\n",
    "                    tool_use['input'] = ''\n",
    "                tool_use['input'] += delta['toolUse']['input']\n",
    "            elif 'text' in delta:\n",
    "                text += delta['text']\n",
    "                print(delta['text'], end='')\n",
    "        elif 'contentBlockStop' in chunk:\n",
    "            if 'input' in tool_use:\n",
    "                tool_use['input'] = json.loads(tool_use['input'])\n",
    "                content.append({'toolUse': tool_use})\n",
    "                tool_use = {}\n",
    "            else:\n",
    "                content.append({'text': text})\n",
    "                text = ''\n",
    "\n",
    "        elif 'messageStop' in chunk:\n",
    "            stop_reason = chunk['messageStop']['stopReason']\n",
    "\n",
    "    return stop_reason, message"
   ]
  },
  {
   "cell_type": "markdown",
   "metadata": {},
   "source": [
    "### Router 정의 \n",
    "- 모델의 응답에서 Tool Use 요청이 발생했을 때, 이를 해당 함수로 라우팅"
   ]
  },
  {
   "cell_type": "code",
   "execution_count": 15,
   "metadata": {},
   "outputs": [],
   "source": [
    "def tool_router(tool, messages):\n",
    "    print(f\"\\n<Tool: {tool['name']}>\")\n",
    "    match tool['name']:\n",
    "        case 'list_tables':\n",
    "            res = list_db_tables(tool['input']['uri'])\n",
    "            tool_result = {\n",
    "                \"toolUseId\": tool['toolUseId'],\n",
    "                \"content\": [{\"json\": res}]\n",
    "            }\n",
    "        case 'desc_columns':\n",
    "            res = desc_table_columns(tool['input']['uri'], tool['input']['tables'])\n",
    "            tool_result = {\n",
    "                \"toolUseId\": tool['toolUseId'],\n",
    "                \"content\": [{\"json\": res}]\n",
    "            }\n",
    "        case 'query_checker':\n",
    "            res = query_checker(tool['input']['query'], tool['input']['dialect'])\n",
    "            tool_result = {\n",
    "                \"toolUseId\": tool['toolUseId'],\n",
    "                \"content\": [{\"text\": res}]\n",
    "            }\n",
    "        case 'query_executor':\n",
    "            res = query_executor(tool['input']['uri'], tool['input']['query'], tool['input']['output_columns']) \n",
    "            tool_result = {\n",
    "                \"toolUseId\": tool['toolUseId'],\n",
    "                \"content\": [{\"text\": res}]\n",
    "            }\n",
    "\n",
    "    print(f\"Result: {tool_result['content'][0]}\\n\")\n",
    "    tool_result_message = {\"role\": \"user\", \"content\": [{\"toolResult\": tool_result}]}\n",
    "\n",
    "    return tool_result_message"
   ]
  },
  {
   "cell_type": "markdown",
   "metadata": {},
   "source": [
    "### 사용자 프롬프트 정자 (DB에 대한 자연어 질문)"
   ]
  },
  {
   "cell_type": "code",
   "execution_count": 16,
   "metadata": {},
   "outputs": [],
   "source": [
    "model_id = \"anthropic.claude-3-sonnet-20240229-v1:0\"\n",
    "input_text = \"\"\"\n",
    "2022년 매출 상위 10개 국가를 알아내는 쿼리를 작성해줘\n",
    "\n",
    "DB_URI: sqlite:///Chinook.db\n",
    "\"\"\""
   ]
  },
  {
   "cell_type": "code",
   "execution_count": 17,
   "metadata": {},
   "outputs": [
    {
     "name": "stdout",
     "output_type": "stream",
     "text": [
      "\n",
      "<Tool: list_tables>\n",
      "Result: {'json': {'Album': 'desc', 'Artist': 'desc', 'Customer': 'desc', 'Employee': 'desc', 'Genre': 'desc', 'Invoice': 'desc', 'InvoiceLine': 'desc', 'MediaType': 'desc', 'Playlist': 'desc', 'PlaylistTrack': 'desc', 'Track': 'desc'}}\n",
      "\n",
      "먼저 'list_tables' 함수를 사용하여 Chinook 데이터베이스의 테이블들을 확인했습니다. Invoices와 Customers 테이블을 조회하면 요구사항을 충족할 수 있을 것 같습니다.\n",
      "<Tool: desc_columns>\n",
      "Result: {'json': {'Invoice': ['InvoiceId', 'CustomerId', 'InvoiceDate', 'BillingAddress', 'BillingCity', 'BillingState', 'BillingCountry', 'BillingPostalCode', 'Total'], 'Customer': ['CustomerId', 'FirstName', 'LastName', 'Company', 'Address', 'City', 'State', 'Country', 'PostalCode', 'Phone', 'Fax', 'Email', 'SupportRepId']}}\n",
      "\n",
      "desc_columns 툴을 사용하여 Invoice와 Customer 테이블의 스키마를 확인했습니다. Invoice 테이블에는 BillingCountry 열이 있어 국가 정보를 얻을 수 있고, Total 열로 매출액을 알 수 있습니다.\n",
      "\n",
      "이제 쿼리를 작성해보겠습니다."
     ]
    },
    {
     "name": "stderr",
     "output_type": "stream",
     "text": [
      "INFO:botocore.credentials:Found credentials from IAM Role: SSMInstanceProfile\n"
     ]
    },
    {
     "name": "stdout",
     "output_type": "stream",
     "text": [
      "\n",
      "<Tool: query_checker>\n",
      "Result: {'text': \"SELECT BillingCountry, SUM(Total) AS TotalSales\\nFROM Invoice\\nWHERE InvoiceDate >= '2022-01-01' AND InvoiceDate < '2023-01-01'\\nGROUP BY BillingCountry\\nORDER BY TotalSales DESC\\nLIMIT 10;\"}\n",
      "\n",
      "query_checker 툴을 사용하여 작성한 쿼리를 검사했습니다. 쿼리의 WHERE 절에서 BETWEEN 대신 >= 와 < 를 사용하는 것이 더 효율적이라는 조언을 받았습니다.\n",
      "\n",
      "이제 수정한 쿼리를 실행해보겠습니다.\n",
      "<Tool: query_executor>\n",
      "Result: {'text': 'BillingCountry,TotalSales\\nUSA,102.97999999999999\\nCanada,76.25999999999999\\nBrazil,41.6\\nFrance,39.599999999999994\\nHungary,32.75\\nUnited Kingdom,30.69\\nAustria,27.77\\nGermany,25.740000000000002\\nChile,17.91\\nIndia,17.83\\n'}\n",
      "\n",
      "최종 쿼리 결과는 다음과 같습니다:\n",
      "\n",
      "```sql\n",
      "SELECT BillingCountry, SUM(Total) AS TotalSales\n",
      "FROM Invoice  \n",
      "WHERE InvoiceDate >= '2022-01-01' AND InvoiceDate < '2023-01-01'\n",
      "GROUP BY BillingCountry\n",
      "ORDER BY TotalSales DESC\n",
      "LIMIT 10;\n",
      "```\n",
      "\n",
      "매출이 가장 높은 상위 10개 국가는 미국, 캐나다, 브라질, 프랑스, 헝가리, 영국, 오스트리아, 독일, 칠레, 인도 순입니다.\n",
      "Final Response: 최종 쿼리 결과는 다음과 같습니다:\n",
      "\n",
      "```sql\n",
      "SELECT BillingCountry, SUM(Total) AS TotalSales\n",
      "FROM Invoice  \n",
      "WHERE InvoiceDate >= '2022-01-01' AND InvoiceDate < '2023-01-01'\n",
      "GROUP BY BillingCountry\n",
      "ORDER BY TotalSales DESC\n",
      "LIMIT 10;\n",
      "```\n",
      "\n",
      "매출이 가장 높은 상위 10개 국가는 미국, 캐나다, 브라질, 프랑스, 헝가리, 영국, 오스트리아, 독일, 칠레, 인도 순입니다.\n"
     ]
    }
   ],
   "source": [
    "messages = [{\n",
    "    \"role\": \"user\",\n",
    "    \"content\": [{\"text\": input_text}]\n",
    "}]\n",
    "\n",
    "stop_reason, message = stream_messages(client, model_id, messages, tool_config)\n",
    "messages.append(message)\n",
    "\n",
    "while stop_reason == \"tool_use\":\n",
    "    contents = message[\"content\"]\n",
    "    for c in contents:  \n",
    "        if \"toolUse\" not in c:\n",
    "            continue\n",
    "        tool_use = c[\"toolUse\"] \n",
    "        message = tool_router(tool_use, messages)\n",
    "        messages.append(message)\n",
    "    \n",
    "    stop_reason, message = stream_messages(client, model_id, messages, tool_config)\n",
    "    messages.append(message)\n",
    "\n",
    "print(f\"\\nFinal Response: {message['content'][0]['text']}\")"
   ]
  }
 ],
 "metadata": {
  "kernelspec": {
   "display_name": "Python 3",
   "language": "python",
   "name": "python3"
  },
  "language_info": {
   "codemirror_mode": {
    "name": "ipython",
    "version": 3
   },
   "file_extension": ".py",
   "mimetype": "text/x-python",
   "name": "python",
   "nbconvert_exporter": "python",
   "pygments_lexer": "ipython3",
   "version": "3.10.12"
  }
 },
 "nbformat": 4,
 "nbformat_minor": 2
}
