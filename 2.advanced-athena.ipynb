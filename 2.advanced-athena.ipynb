{
 "cells": [
  {
   "cell_type": "markdown",
   "id": "a2918ec2-1ec0-42d9-addf-cde8a5549ebd",
   "metadata": {},
   "source": [
    "### 이 노트북의 실습은 아래 원문 워크샵 시나리오를 바탕으로 합니다.\n",
    "\n",
    "https://github.com/aws-samples/text-to-sql-bedrock-workshop"
   ]
  },
  {
   "cell_type": "markdown",
   "id": "dce1d9ff-f229-4d9f-8f37-f5eac09005b9",
   "metadata": {},
   "source": [
    "## Step 0: 라이브러리 설치 및 Athena 연결"
   ]
  },
  {
   "cell_type": "code",
   "execution_count": null,
   "id": "e609d001-3e31-43b4-9d41-71abb778c474",
   "metadata": {},
   "outputs": [],
   "source": [
    "!python -m ensurepip --upgrade\n",
    "!pip install \"sqlalchemy\" --quiet\n",
    "!pip install \"boto3~=1.34\"  --quiet\n",
    "!pip install \"jinja2\" --quiet\n",
    "!pip install \"botocore\" --quiet\n",
    "!pip install \"pandas\" --quiet\n",
    "!pip install \"PyAthena\" --quiet\n",
    "!pip install \"faiss-cpu\" --quiet"
   ]
  },
  {
   "cell_type": "code",
   "execution_count": null,
   "id": "1bec56c0-e559-4efe-96fe-648e4f9ef5cd",
   "metadata": {},
   "outputs": [],
   "source": [
    "import boto3\n",
    "import sys\n",
    "\n",
    "#sys.path.append('../')\n",
    "from libs.din_sql import din_sql_lib as dsl"
   ]
  },
  {
   "cell_type": "code",
   "execution_count": null,
   "id": "cfde6f77-af7f-4c9f-ba89-6eb152913ed2",
   "metadata": {},
   "outputs": [],
   "source": [
    "ATHENA_RESULTS_S3_LOCATION = \"txt2sql-2-us-west-2-389394968670-workshop/athena_results/\" # available in cloudformation outputs\n",
    "ATHENA_CATALOG_NAME = \"txt2sql-2-tpc_ds\" # available in cloudformation outputs\n",
    "DB_NAME = \"tpcds1\""
   ]
  },
  {
   "cell_type": "code",
   "execution_count": null,
   "id": "639cd455-7cc4-4123-9294-db1c6da780df",
   "metadata": {},
   "outputs": [],
   "source": [
    "#model_id = 'anthropic.claude-3-haiku-20240307-v1:0'\n",
    "model_id = 'anthropic.claude-3-sonnet-20240229-v1:0'\n",
    "\n",
    "din_sql = dsl.DIN_SQL(bedrock_model_id=model_id)"
   ]
  },
  {
   "cell_type": "code",
   "execution_count": null,
   "id": "1ffcae24-55ef-4da8-8d87-0472f2d493ad",
   "metadata": {},
   "outputs": [],
   "source": [
    "din_sql.athena_connect(catalog_name=ATHENA_CATALOG_NAME, \n",
    "               db_name=DB_NAME, \n",
    "               s3_prefix=ATHENA_RESULTS_S3_LOCATION)"
   ]
  },
  {
   "cell_type": "markdown",
   "id": "3673b674-6caa-4941-a93c-21b3e85623dd",
   "metadata": {},
   "source": [
    "## Step 1: Schema Linking 모듈"
   ]
  },
  {
   "cell_type": "markdown",
   "id": "ae97b60e-06ed-4d57-937d-ffe2086b3093",
   "metadata": {},
   "source": [
    "### 사용할 DB의 스키마 정보 확보"
   ]
  },
  {
   "cell_type": "code",
   "execution_count": null,
   "id": "03282784-28b9-47c0-9a84-6881178f02c1",
   "metadata": {},
   "outputs": [],
   "source": [
    "return_sql= din_sql.find_fields(db_name=DB_NAME)\n",
    "print(return_sql)"
   ]
  },
  {
   "cell_type": "markdown",
   "id": "8162701b-bdf6-4eb7-aeee-88f24f11bfb1",
   "metadata": {},
   "source": [
    "### 스키마 선별을 위한 프롬프트 구성 & LLM 요청"
   ]
  },
  {
   "cell_type": "code",
   "execution_count": null,
   "id": "ef57f0a4-6aa1-48b0-95e3-696449e2d70b",
   "metadata": {
    "scrolled": true
   },
   "outputs": [],
   "source": [
    "question = \"Which customer spent the most money in the web store?\"\n",
    "\n",
    "# 프롬프트 구성 : Instruction + Few shot samples + Question\n",
    "schema_links_prompt = din_sql.schema_linking_prompt_maker(question, DB_NAME)\n",
    "\n",
    "# Word-in-mouth 추가 : Instruction for CoT\n",
    "word_in_mouth_schema_link = f'A. Let’s think step by step. In the question \"{question}\", we are asked:'\n",
    "\n",
    "# LLM 질문 & 답변 생성\n",
    "schema_links = din_sql.llm_generation(\n",
    "                    schema_links_prompt,\n",
    "                    stop_sequences=['</links>'],\n",
    "                    word_in_mouth=word_in_mouth_schema_link\n",
    "                    )"
   ]
  },
  {
   "cell_type": "markdown",
   "id": "e6da73f0-6c71-4172-b2d1-3cf8bcd66f94",
   "metadata": {},
   "source": [
    "### 결과 확인"
   ]
  },
  {
   "cell_type": "code",
   "execution_count": null,
   "id": "fcba6680-e486-47a8-aa4b-cb0864936bf1",
   "metadata": {},
   "outputs": [],
   "source": [
    "print(f\"{word_in_mouth_schema_link}{schema_links}\")\n",
    "\n",
    "# 참고 : 위에서 stop_sequences로 </links>를 걸었기 때문에, 스키마 링크가 출력되는 직후 답변이 중단됨"
   ]
  },
  {
   "cell_type": "code",
   "execution_count": null,
   "id": "8fa0117e-edbe-4ecd-96d9-7ff43f96d898",
   "metadata": {},
   "outputs": [],
   "source": [
    "links = schema_links.split('<links>')[1].replace('\\n','')\n",
    "links"
   ]
  },
  {
   "cell_type": "markdown",
   "id": "8438839b-f1fe-4cbb-a301-74fecd770f3a",
   "metadata": {},
   "source": [
    "#### 이제 자연어 질문 처리에 필요한 스키마 링크가 확보되었습니다."
   ]
  },
  {
   "cell_type": "markdown",
   "id": "82ce65f3-4f72-4ad2-a928-b30d763969fd",
   "metadata": {},
   "source": [
    "## Step 2: Classification 모듈"
   ]
  },
  {
   "cell_type": "markdown",
   "id": "8b9120a5-5950-4000-8029-64e34ff08681",
   "metadata": {},
   "source": [
    "### 쿼리 난이도 분류를 위한 프롬프트 구성 & LLM 요청"
   ]
  },
  {
   "cell_type": "code",
   "execution_count": null,
   "id": "b6c481cb-672f-49e4-ba2a-09b69d0b8cfb",
   "metadata": {},
   "outputs": [],
   "source": [
    "# 프롬프트 구성 : Instruction + Few shot samples + Link + Question\n",
    "classification_prompt = din_sql.classification_prompt_maker(question, DB_NAME, links)\n",
    "\n",
    "# Word-in-mouth 추가 : Instruction for CoT\n",
    "word_in_mouth_classification = \"A: Let’s think step by step.\"\n",
    "\n",
    "# LLM 질문 & 답변 생성\n",
    "classification = din_sql.llm_generation(\n",
    "                    classification_prompt,\n",
    "                    stop_sequences=['</label>'],\n",
    "                    word_in_mouth=word_in_mouth_classification\n",
    "                    )"
   ]
  },
  {
   "cell_type": "markdown",
   "id": "f010c94b-72a2-49ad-98c5-e9c184596b35",
   "metadata": {},
   "source": [
    "### 결과 확인"
   ]
  },
  {
   "cell_type": "code",
   "execution_count": null,
   "id": "0e6439a1-7b25-4e56-8888-e87f64259d5a",
   "metadata": {},
   "outputs": [],
   "source": [
    "print(f\"{word_in_mouth_classification}{classification}\")"
   ]
  },
  {
   "cell_type": "code",
   "execution_count": null,
   "id": "8bb3b5f1-3278-4320-831f-449e22872798",
   "metadata": {},
   "outputs": [],
   "source": [
    "predicted_class = classification.split('<label>')[1].replace('\\n','')\n",
    "predicted_class"
   ]
  },
  {
   "cell_type": "markdown",
   "id": "840e3b17-e785-4256-b44e-f872d78424f1",
   "metadata": {},
   "source": [
    "## Step 3: SQL Generation 모듈"
   ]
  },
  {
   "cell_type": "markdown",
   "id": "ba0e1751-fa48-4242-9894-8f9f9372f1bd",
   "metadata": {},
   "source": [
    "### 쿼리 생성을 위한 프롬프트 구성 & LLM 요청"
   ]
  },
  {
   "cell_type": "code",
   "execution_count": null,
   "id": "8c47c57a-e811-4804-b836-d0fd4bc0fd67",
   "metadata": {},
   "outputs": [],
   "source": [
    "# 프롬프트 구성 : 쿼리의 예상 난이도(EASY / NON-NESTED / NESTED)에 따라 다른 프롬프트를 구성\n",
    "sql_tag_start = '```sql'\n",
    "sql_generation_prompt = din_sql.medium_prompt_maker(\n",
    "                        test_sample_text=question, \n",
    "                        database=DB_NAME, \n",
    "                        schema_links=links,\n",
    "                        sql_tag_start=sql_tag_start,\n",
    "                        sql_tag_end='```')\n",
    "\n",
    "# Word-in-mouth 추가 : split을 위한 태그 삽입 \n",
    "word_in_mouth_medium_prompt = f\"SQL: {sql_tag_start}\"\n",
    "#word_in_mouth_medium_prompt = \"A: Let’s think step by step. For creating the SQL for the given question, we need to join tables. First, create an intermediate representation, then use it to construct the SQL query.\\n Intermediate_representation:\"\n",
    "\n",
    "# LLM 질문 & 답변 생성\n",
    "sql_qry = din_sql.llm_generation(\n",
    "                        prompt=sql_generation_prompt,\n",
    "                        stop_sequences=['</example>'],\n",
    "                        word_in_mouth=word_in_mouth_medium_prompt\n",
    "                    )"
   ]
  },
  {
   "cell_type": "code",
   "execution_count": null,
   "id": "546944e0-0c34-4263-b07c-52b6e4b8ba43",
   "metadata": {},
   "outputs": [],
   "source": [
    "print(f\"{word_in_mouth_medium_prompt}{sql_qry}\")"
   ]
  },
  {
   "cell_type": "code",
   "execution_count": null,
   "id": "4984801c-707e-494a-84ca-3e9893c01afd",
   "metadata": {},
   "outputs": [],
   "source": [
    "SQL = sql_qry.split('```')[0].strip()\n",
    "#SQL = sql_qry.split('```sql')[1].split('```')[0].strip()\n",
    "print(f\"{SQL}\")"
   ]
  },
  {
   "cell_type": "markdown",
   "id": "d09cf679-3970-493d-b4e9-25e0638fd377",
   "metadata": {},
   "source": [
    "### 생성된 SQL 쿼리 테스트"
   ]
  },
  {
   "cell_type": "code",
   "execution_count": null,
   "id": "7dbb81be-2e08-4a5c-9fe5-09327e1767d0",
   "metadata": {},
   "outputs": [],
   "source": [
    "import pandas as pd\n",
    "result_set = din_sql.query(SQL)\n",
    "pd.DataFrame(result_set)"
   ]
  },
  {
   "cell_type": "markdown",
   "id": "17bb1be9-14ef-4ce8-ad7b-841225158f22",
   "metadata": {},
   "source": [
    "### 결과 검증"
   ]
  },
  {
   "cell_type": "code",
   "execution_count": null,
   "id": "e35a3bd8-7e58-4bcd-b271-63427f191e95",
   "metadata": {},
   "outputs": [],
   "source": [
    "validation_query = \"\"\"\n",
    "    SELECT \"c\".\"c_customer_sk\"\n",
    "    , \"c\".\"c_first_name\"\n",
    "    , \"c\".\"c_last_name\"\n",
    "    , SUM(\"ws\".\"ws_net_paid\") as total_sales\n",
    "    FROM \"customer\" \"c\" \n",
    "    JOIN \"web_sales\" \"ws\" \n",
    "        ON \"ws\".\"ws_bill_customer_sk\" = \"c\".\"c_customer_sk\"   \n",
    "    GROUP BY \"c\".\"c_customer_sk\"\n",
    "    , \"c\".\"c_first_name\"\n",
    "    , \"c\".\"c_last_name\"\n",
    "    ORDER BY total_sales desc\n",
    "    limit 10\n",
    "\"\"\"\n",
    "validation_set = din_sql.query(validation_query)\n",
    "pd.DataFrame(validation_set)"
   ]
  },
  {
   "cell_type": "markdown",
   "id": "198835e9-6cf6-465a-9096-528954ceff2b",
   "metadata": {},
   "source": [
    "## Step 4: Self Correction 모듈"
   ]
  },
  {
   "cell_type": "markdown",
   "id": "dd2f03b3-6971-4f11-8f8b-6a6ae99bfafd",
   "metadata": {},
   "source": [
    "### 쿼리 정합성 검증"
   ]
  },
  {
   "cell_type": "code",
   "execution_count": null,
   "id": "870c57f5-e2ab-4e3b-82e3-2d9b26aaf99d",
   "metadata": {},
   "outputs": [],
   "source": [
    "revised_sql = din_sql.debugger_generation(\n",
    "            prompt=din_sql.debugger(question, DB_NAME, SQL, sql_dialect='presto')\n",
    "            ).replace(\"\\n\", \" \")\n",
    "print(f\"{revised_sql}\")"
   ]
  },
  {
   "cell_type": "code",
   "execution_count": null,
   "id": "a4e45da0-2782-44a9-a42c-2d24a020bc66",
   "metadata": {},
   "outputs": [],
   "source": [
    "SQL = revised_sql.split('```sql')[1].split('```')[0].strip()\n",
    "print(f\"{SQL}\")"
   ]
  },
  {
   "cell_type": "code",
   "execution_count": null,
   "id": "9e0826c4-607a-4d83-9ed8-e4670b568236",
   "metadata": {},
   "outputs": [],
   "source": [
    "result_set = din_sql.query(SQL)\n",
    "pd.DataFrame(result_set)"
   ]
  },
  {
   "cell_type": "markdown",
   "id": "11e3d389-d29b-4ba2-9f4c-b8f57d928ee3",
   "metadata": {},
   "source": [
    "## End-to-End 수행"
   ]
  },
  {
   "cell_type": "code",
   "execution_count": null,
   "id": "de29180e-cbd1-4539-9fe7-0d252cabafc3",
   "metadata": {},
   "outputs": [],
   "source": [
    "#model_id = 'anthropic.claude-3-haiku-20240307-v1:0'\n",
    "model_id = 'anthropic.claude-3-sonnet-20240229-v1:0'\n",
    "\n",
    "din_sql = dsl.DIN_SQL(bedrock_model_id=model_id)\n",
    "din_sql.athena_connect(catalog_name=ATHENA_CATALOG_NAME, \n",
    "               db_name=DB_NAME, \n",
    "               s3_prefix=ATHENA_RESULTS_S3_LOCATION)"
   ]
  },
  {
   "cell_type": "code",
   "execution_count": null,
   "id": "0075050f-0959-497b-ae1b-fe1496b08ff6",
   "metadata": {
    "scrolled": true
   },
   "outputs": [],
   "source": [
    "question = \"카탈로그가 가장 많이 판매된 해가 언제인가요?\"\n",
    "\n",
    "# Schema Linking 모듈\n",
    "print(\"Schema Linking\")\n",
    "schema_links_prompt = din_sql.schema_linking_prompt_maker(question, DB_NAME)\n",
    "word_in_mouth_schema_link = f'A. Let’s think step by step. In the question \"{question}\", we are asked:'\n",
    "%time schema_links = din_sql.llm_generation(schema_links_prompt, stop_sequences=['</links>'], word_in_mouth=word_in_mouth_schema_link)\n",
    "links = schema_links.split('<links>')[1].replace('\\n','')\n",
    "\n",
    "# Classification 모듈\n",
    "print(\"\\nClassification and Decomposition\")\n",
    "classification_prompt = din_sql.classification_prompt_maker(question, DB_NAME, links)\n",
    "word_in_mouth_classification = \"A: Let’s think step by step.\"\n",
    "%time classification = din_sql.llm_generation(classification_prompt, stop_sequences=['</label>'], word_in_mouth=word_in_mouth_classification)\n",
    "predicted_class = classification.split('<label>')[1].replace('\\n','')\n",
    "\n",
    "# SQL Generation 모듈\n",
    "print(\"\\nSQL Generation\")\n",
    "sql_tag_start='```sql'\n",
    "word_in_mouth_medium_prompt = f\"SQL: {sql_tag_start}\"\n",
    "sql_generation_prompt = din_sql.medium_prompt_maker(test_sample_text=question, database=DB_NAME, schema_links=links, sql_tag_start=sql_tag_start, sql_tag_end='```')\n",
    "word_in_mouth_medium_prompt = f\"SQL: {sql_tag_start}\"\n",
    "%time sql_qry = din_sql.llm_generation(prompt=sql_generation_prompt, stop_sequences=['</example>'], word_in_mouth=word_in_mouth_medium_prompt)\n",
    "SQL = sql_qry.split('```')[0].strip()\n",
    "\n",
    "# Self Correction 모듈\n",
    "print(\"\\nSelf Correction\") \n",
    "debug_prompt = din_sql.debugger(question, DB_NAME, SQL, sql_dialect='presto')\n",
    "%time revised_sql = din_sql.debugger_generation(prompt=debug_prompt).replace(\"\\n\", \" \")\n",
    "\n",
    "# 쿼리 실행\n",
    "print(\"\\nQuery Execution\") \n",
    "#SQL = revised_sql.split('```sql')[1].split('```')[0].strip()\n",
    "SQL = revised_sql.split('```')[0].strip()\n",
    "%time result_set = din_sql.query(SQL)\n",
    "pd.DataFrame(result_set)"
   ]
  }
 ],
 "metadata": {
  "kernelspec": {
   "display_name": "Python 3 (ipykernel)",
   "language": "python",
   "name": "python3"
  },
  "language_info": {
   "codemirror_mode": {
    "name": "ipython",
    "version": 3
   },
   "file_extension": ".py",
   "mimetype": "text/x-python",
   "name": "python",
   "nbconvert_exporter": "python",
   "pygments_lexer": "ipython3",
   "version": "3.10.13"
  }
 },
 "nbformat": 4,
 "nbformat_minor": 5
}
