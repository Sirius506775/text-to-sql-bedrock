{
 "cells": [
  {
   "cell_type": "markdown",
   "metadata": {},
   "source": [
    "## Search with Knowledge Bases Structured Data Source (not implemented yet)"
   ]
  },
  {
   "cell_type": "code",
   "execution_count": null,
   "metadata": {},
   "outputs": [],
   "source": [
    "bedrock_agent_runtime = boto3.client('bedrock-agent-runtime')\n",
    "agent_response = bedrock_agent_runtime.generate_query(\n",
    "    queryGenerationInput={\n",
    "        'text': 'total sales in 2023',\n",
    "        'type': 'TEXT'\n",
    "    },\n",
    "    transformationConfiguration={\n",
    "        'mode': 'TEXT_TO_SQL',\n",
    "        'textToSqlConfiguration': {\n",
    "            'knowledgeBaseConfiguration': {\n",
    "                'knowledgeBaseArn': kb_arn\n",
    "            },\n",
    "            'type': 'KNOWLEDGE_BASE'\n",
    "        }\n",
    "    }\n",
    ")\n",
    "\n",
    "print(agent_response)"
   ]
  }
 ],
 "metadata": {
  "language_info": {
   "name": "python"
  }
 },
 "nbformat": 4,
 "nbformat_minor": 2
}
