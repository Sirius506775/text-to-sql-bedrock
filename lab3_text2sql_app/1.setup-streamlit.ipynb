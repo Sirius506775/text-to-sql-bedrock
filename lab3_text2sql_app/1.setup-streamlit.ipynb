{
 "cells": [
  {
   "cell_type": "markdown",
   "id": "f6e04355-88a5-4e56-b1a2-a55568adcd89",
   "metadata": {},
   "source": [
    "# Lab. 3 Text2SQL Chatbot Prototype\n"
   ]
  },
  {
   "cell_type": "code",
   "execution_count": null,
   "id": "99434666-135c-4320-877e-dee3e7093a50",
   "metadata": {
    "scrolled": true
   },
   "outputs": [],
   "source": [
    "!pip install streamlit"
   ]
  },
  {
   "cell_type": "markdown",
   "id": "d27cbb39-e3ab-43ea-a64e-5afe87e83b6e",
   "metadata": {},
   "source": [
    "### Launch Streamlit configurations"
   ]
  },
  {
   "cell_type": "code",
   "execution_count": 2,
   "id": "30bf6784-3e58-4c57-bafb-72cc4dbb124d",
   "metadata": {},
   "outputs": [],
   "source": [
    "%%bash\n",
    "mkdir -p ~/.streamlit\n",
    "cat > ~/.streamlit/config.toml <<EOF\n",
    "[server]\n",
    "enableXsrfProtection = false\n",
    "enableCORS = false\n",
    "EOF\n"
   ]
  },
  {
   "cell_type": "markdown",
   "id": "5248519f-00f3-431e-b6d4-6c2b9013bb2e",
   "metadata": {},
   "source": [
    "In the terminal, navigate to the file path aws-kr-retail-cpg-genai/demo-app.py and execute the following commands:\n",
    "\n",
    "`cd text-to-sql-bedrock/lab3_text2sql_app`\n",
    "\n",
    "`streamlit run demo-app.py --server.port 8505`\n",
    "\n",
    "These commands start a Streamlit application defined in the Python script demo-app.py. The application will be served on port number 8505.\n",
    "\n",
    "#### Copy the current browser URL and paste it into the url variable below"
   ]
  },
  {
   "cell_type": "code",
   "execution_count": null,
   "id": "6b75e019-4f41-487c-a41c-a72f6429e5a3",
   "metadata": {},
   "outputs": [],
   "source": [
    "url = \"\"\n",
    "# 형식 : \"https://.../setup-streamlit.ipynb\""
   ]
  },
  {
   "cell_type": "code",
   "execution_count": null,
   "id": "936f9733-4211-4ebe-b03d-61ee4580a122",
   "metadata": {},
   "outputs": [],
   "source": [
    "base_url = url.split(\"default/\")[0]\n",
    "new_url = base_url + \"default/proxy/8505/\"\n",
    "\n",
    "print(new_url)"
   ]
  }
 ],
 "metadata": {
  "kernelspec": {
   "display_name": "Python 3 (ipykernel)",
   "language": "python",
   "name": "python3"
  },
  "language_info": {
   "codemirror_mode": {
    "name": "ipython",
    "version": 3
   },
   "file_extension": ".py",
   "mimetype": "text/x-python",
   "name": "python",
   "nbconvert_exporter": "python",
   "pygments_lexer": "ipython3",
   "version": "3.9.16"
  }
 },
 "nbformat": 4,
 "nbformat_minor": 5
}
