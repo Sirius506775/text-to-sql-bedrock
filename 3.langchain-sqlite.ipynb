{
 "cells": [
  {
   "cell_type": "markdown",
   "id": "0fb0db48-5e4e-4904-87d8-6904a4717080",
   "metadata": {},
   "source": [
    "# 라이브러리 설치 및 초기 세팅"
   ]
  },
  {
   "cell_type": "code",
   "execution_count": null,
   "id": "c9ec13e0-01f6-4cf4-943e-7fec30199974",
   "metadata": {},
   "outputs": [],
   "source": [
    "!python -m ensurepip --upgrade\n",
    "!pip install -U boto3 --quiet\n",
    "!pip install -U botocore --quiet\n",
    "!pip install langchain --quiet\n",
    "!pip install sqlalchemy --quiet\n",
    "!pip install langchain-experimental --quiet\n",
    "!pip install langchainhub --quiet"
   ]
  },
  {
   "cell_type": "markdown",
   "id": "bf316025-87a7-4814-8965-17b488d252fd",
   "metadata": {},
   "source": [
    "#### *설치 후 커널을 재시작해주세요"
   ]
  },
  {
   "cell_type": "code",
   "execution_count": null,
   "id": "5cb62ef0-cf78-4123-b891-5b0aa1f78e03",
   "metadata": {},
   "outputs": [],
   "source": [
    "import boto3\n",
    "import json\n",
    "import time\n",
    "import os"
   ]
  },
  {
   "cell_type": "code",
   "execution_count": null,
   "id": "bbf2b9c4-f5dc-43ed-a600-f0ad64799a6a",
   "metadata": {},
   "outputs": [],
   "source": [
    "from langchain_community.chat_models import BedrockChat\n",
    "from langchain.callbacks.streaming_stdout import StreamingStdOutCallbackHandler"
   ]
  },
  {
   "cell_type": "code",
   "execution_count": null,
   "id": "ad0f7c29-04c8-442f-a565-9e2ba8bb5e1d",
   "metadata": {},
   "outputs": [],
   "source": [
    "bedrock_client = boto3.client(\n",
    "    service_name='bedrock-runtime'\n",
    ")\n",
    "\n",
    "#model_id='anthropic.claude-3-haiku-20240307-v1:0'\n",
    "llm = BedrockChat(\n",
    "    model_id='anthropic.claude-3-sonnet-20240229-v1:0',\n",
    "    streaming=True,\n",
    "    callbacks=[StreamingStdOutCallbackHandler()],\n",
    "\tmodel_kwargs={\"temperature\":0},\n",
    "\tclient=bedrock_client\n",
    ")"
   ]
  },
  {
   "cell_type": "markdown",
   "id": "d71a8dad-06e7-4b3c-a590-31d553c5b952",
   "metadata": {},
   "source": [
    "`SQLDatabase` 클래스는 내부적으로 `SQLAlchemy`를 활용해서, 데이터베이스 스키마 및 데이터에 접근합니다.\n",
    "- `from_uri()` 을 통해 SQLAlchemy의 DB 연결을 구성하고,\n",
    "- `table_info()` / `get_usable_table_names()` 등으로 테이블 정보를 확인하거나,\n",
    "- `run()` 로 쿼리를 직접 실행하기도 합니다."
   ]
  },
  {
   "cell_type": "code",
   "execution_count": null,
   "id": "41754317-1841-40d7-871b-b0ff32a99738",
   "metadata": {},
   "outputs": [],
   "source": [
    "from langchain_community.utilities import SQLDatabase"
   ]
  },
  {
   "cell_type": "code",
   "execution_count": null,
   "id": "fefc5fbe-9bb0-499c-a5e4-b06278b40617",
   "metadata": {
    "scrolled": true
   },
   "outputs": [],
   "source": [
    "db = SQLDatabase.from_uri(\"sqlite:///Chinook.db\")\n",
    "print(db.get_usable_table_names())\n",
    "db.run(\"SELECT * FROM Artist LIMIT 10;\")"
   ]
  },
  {
   "cell_type": "markdown",
   "id": "28369dec-10e0-4d19-abbf-744191e37fe6",
   "metadata": {},
   "source": [
    "# SQL Chain 활용하기\n",
    "\n",
    "Chain은 LangChain의 핵심 기능으로, 여러 컴포넌트들을 연결하고 Output-Input을 연결해 전달하는 형식을 따릅니다. \n",
    "\n",
    "비교적 정형화되고 간단한 Text2SQL 변환 목적으로 활용하기에 적합합니다. \n",
    "\n",
    "아래에서는 SQL 변환작업을 손쉽게 End-to-End 지원할 수 있도록 LangChain에서 기본 제공하는 몇 가지 방법들을 알아봅니다."
   ]
  },
  {
   "cell_type": "markdown",
   "id": "0666715e-2ab0-4e11-a2d7-dc471ddfca29",
   "metadata": {},
   "source": [
    "### 1. SQLDatabaseChain 클래스 활용 \n",
    "- `SQLDatabaseChain`은 자연어 입력을 받아, LLMChain에 SQL 쿼리로 변환을 요청합니다.\n",
    "- 쿼리 변환 뿐만 아니라, 쿼리 수행, 답변 생성까지 자동으로 처리합니다."
   ]
  },
  {
   "cell_type": "code",
   "execution_count": null,
   "id": "a62be374-2d02-4644-863c-fa60f73e8c4c",
   "metadata": {},
   "outputs": [],
   "source": [
    "from langchain_experimental.sql import SQLDatabaseChain\n",
    "from langchain.prompts.prompt import PromptTemplate"
   ]
  },
  {
   "cell_type": "markdown",
   "id": "6c8ad84f-444f-4e44-96b5-da74a659b334",
   "metadata": {},
   "source": [
    "- `from_llm()`으로 원하는 언어모델 기반의 `LLMChain`을 생성합니다.\n",
    "- `LLMChain`은 프롬프트 템플릿에 사용자 입력값을 씌워서, LLM 모델의 출력을 생성하는 기능입니다."
   ]
  },
  {
   "cell_type": "code",
   "execution_count": null,
   "id": "6e5df3cd-e069-47d1-8ba6-db5cf4e0e842",
   "metadata": {},
   "outputs": [],
   "source": [
    "db_chain = SQLDatabaseChain.from_llm(llm, db)"
   ]
  },
  {
   "cell_type": "markdown",
   "id": "45f6bd0c-b2c4-4133-874c-8ffb9f22b5b2",
   "metadata": {},
   "source": [
    "- `SQLDatabaseChain`의 `_DEFAULT_PROMPT`는 아래의 프롬프트 형식으로 이루어져있습니다.\n",
    "- 필요하다면 프롬프트의 인스트럭션을 수정해서 `invoke()` 호출할 때 prompt 파라미터로 전달할 수 있습니다.\n",
    "\n",
    "-----\n",
    "```\n",
    "Given an input question, first create a syntactically correct {dialect} query to run, then look at the results of the query and return the answer. Unless the user specifies in his question a specific number of examples he wishes to obtain, always limit your query to at most {top_k} results. You can order the results by a relevant column to return the most interesting examples in the database.\n",
    "\n",
    "Never query for all the columns from a specific table, only ask for a the few relevant columns given the question.\n",
    "\n",
    "Pay attention to use only the column names that you can see in the schema description. Be careful to not query for columns that do not exist. Also, pay attention to which column is in which table.\n",
    "\n",
    "Use the following format:\n",
    "\n",
    "Question: Question here\n",
    "SQLQuery: SQL Query to run\n",
    "SQLResult: Result of the SQLQuery\n",
    "Answer: Final answer here\n",
    "\n",
    "Only use the following tables:\n",
    "{table_info}\n",
    "\n",
    "Question: {input}\n",
    "```\n",
    "-----"
   ]
  },
  {
   "cell_type": "code",
   "execution_count": null,
   "id": "7639e9a0-a871-463b-8ac5-54bc22b0db78",
   "metadata": {
    "scrolled": true
   },
   "outputs": [],
   "source": [
    "response = db_chain.invoke(\"List the total sales per country. Which country's customers spent the most?\")"
   ]
  },
  {
   "cell_type": "code",
   "execution_count": null,
   "id": "3c86197e-8b72-4d7e-b36e-3fb252e43ee9",
   "metadata": {},
   "outputs": [],
   "source": [
    "print(response['result'])"
   ]
  },
  {
   "cell_type": "markdown",
   "id": "4621de33-39a5-444b-988d-8641e5272c0b",
   "metadata": {},
   "source": [
    "- `SQLDatabaseChain`은 SQL 변환 작업을 한 번의 호출로 처리하므로, 복잡한 테이블 처리에는 적합하지 않습니다.\n",
    "- `SQLDatabaseSequentialChain`은 테이블 선별 작업(decider)과 쿼리 생성 작업을 분리하여 순차 진행하도록 구현되어 있어, 복잡한 테이블 처리에 보다 적합합니다.\n",
    "- `SQLDatabaseChain`의 다양한 활용 패턴은 다음 [Cookbook](https://github.com/langchain-ai/langchain/blob/master/cookbook/sql_db_qa.mdx) 링크에서 확인할 수 있습니다."
   ]
  },
  {
   "cell_type": "markdown",
   "id": "93802b7f-f23a-4a46-b20f-046b8696ba62",
   "metadata": {},
   "source": [
    "### 2. `create_sql_query_chain` 함수 활용\n",
    "- `create_sql_query_chain`은 end-to-end 워크플로를 지원하는 `SQLDatabaseChain`과 달리, SQL 쿼리 생성만 지원하도록 파생된 서브모듈입니다.\n",
    "- LangChain 애플리케이션이 SQL 쿼리 수행까지 한번에 수행하는 것을 원하지 않는 경우, `create_sql_query_chain`을 사용해 유연성을 높일 수 있습니다.\n",
    "- `create_sql_query_chain`을 활용할 때, 아래 파라미터를 프롬프트에 input으로 전달해서 쿼리 생성 방식을 제어할 수 있습니다.\n",
    "    - `table_names_to_use` : 접근 가능한 테이블 목록을 List로 제공 - 민감 데이터 접근 방지 목적\n",
    "    - `k` : SELECT 구문에서 리턴할 row 개수(`LIMIT K;`)를 지정"
   ]
  },
  {
   "cell_type": "code",
   "execution_count": null,
   "id": "1a992c3c-9247-4bba-a7a9-a4c03314d618",
   "metadata": {},
   "outputs": [],
   "source": [
    "from langchain.schema import StrOutputParser\n",
    "from langchain.chains import create_sql_query_chain"
   ]
  },
  {
   "cell_type": "code",
   "execution_count": null,
   "id": "06e0e6b2-72d0-458b-a387-23a0dec7d469",
   "metadata": {},
   "outputs": [],
   "source": [
    "chain = create_sql_query_chain(llm, db) "
   ]
  },
  {
   "cell_type": "markdown",
   "id": "9cdb19f4-351c-45b8-89d5-2ea257b6760b",
   "metadata": {},
   "source": [
    "- 아래와 같이 쿼리 변환 프롬프트를 직접 수정할 수 있습니다."
   ]
  },
  {
   "cell_type": "code",
   "execution_count": null,
   "id": "f77188e8-a120-464f-84b1-7b2d99f08b90",
   "metadata": {
    "scrolled": true
   },
   "outputs": [],
   "source": [
    "query_generation_template='''\n",
    "\n",
    "Human: You are a SQLite expert.\n",
    "Given an input question, first create a syntactically correct SQLite query to run.\n",
    "Unless the user specifies in the question a specific number of examples to obtain, query for at most {top_k} results using the LIMIT clause as per SQLite. You can order the results to return the most informative data in the database.\n",
    "Never query for all columns from a table. You must query only the columns that are needed to answer the question. Wrap each column name in double quotes (\") to denote them as delimited identifiers.\n",
    "Pay attention to use only the column names you can see in the tables below. Be careful to not query for columns that do not exist. Also, pay attention to which column is in which table.\n",
    "Pay attention to use date(\\'now\\') function to get the current date, if the question involves \"today\".\n",
    "\n",
    "Only use the following tables:\n",
    "{table_info}\n",
    "\n",
    "Question: {input}\n",
    "\n",
    "Skip the preamble and provide only the SQL.\n",
    "\n",
    "Assistant:\n",
    "'''\n",
    "\n",
    "chain.get_prompts()[0].template = query_generation_template\n",
    "chain.get_prompts()[0].pretty_print()"
   ]
  },
  {
   "cell_type": "code",
   "execution_count": null,
   "id": "ab1cb835-7669-4c12-b02f-d1ddeb998999",
   "metadata": {},
   "outputs": [],
   "source": [
    "question = \"List the total sales per country. Which country's customers spent the most?\"\n",
    "sql_response = chain.invoke({\"question\": question})"
   ]
  },
  {
   "cell_type": "markdown",
   "id": "208a0c52-7ef3-4159-8eed-49a585760dc3",
   "metadata": {},
   "source": [
    "- SQL 쿼리를 얻어내면, 원하는 방법으로 쿼리를 직접 수행합니다. 아래 셀에서는 `db.run()` 메소드를 활용합니다."
   ]
  },
  {
   "cell_type": "code",
   "execution_count": null,
   "id": "9e60b9c4-ea39-4d3b-beb3-dd6ef991b733",
   "metadata": {},
   "outputs": [],
   "source": [
    "result = db.run(sql_response)\n",
    "print(result)"
   ]
  },
  {
   "cell_type": "code",
   "execution_count": null,
   "id": "3b8c6267-1260-4962-93b6-c3fc69614272",
   "metadata": {},
   "outputs": [],
   "source": [
    "from langchain_core.messages import HumanMessage\n",
    "from langchain_core.prompts import PromptTemplate"
   ]
  },
  {
   "cell_type": "code",
   "execution_count": null,
   "id": "462db609-85ca-483d-b93f-bc692ba61581",
   "metadata": {},
   "outputs": [],
   "source": [
    "def answer_with_data(prompt, question, result):\n",
    "    prompt_for_answer = PromptTemplate.from_template(prompt)\n",
    "    messages = [\n",
    "        HumanMessage(\n",
    "            content = prompt_for_answer.format(question=question, result=result)\n",
    "        )\n",
    "    ]\n",
    "    final_answer = llm.invoke(messages)\n",
    "    return final_answer"
   ]
  },
  {
   "cell_type": "code",
   "execution_count": null,
   "id": "a7292cf4-fa00-49ad-8282-a1d5fa4f6a4d",
   "metadata": {},
   "outputs": [],
   "source": [
    "prompt = \"\"\"\n",
    "Human: Based on the question below\n",
    "\n",
    "{question}\n",
    "\n",
    "the result data were given below. \n",
    "\n",
    "{result}\n",
    "\n",
    "Provide answer in simple Korean statement and don't include table or schema names.\n",
    "\n",
    "Assistant: \n",
    "\"\"\""
   ]
  },
  {
   "cell_type": "code",
   "execution_count": null,
   "id": "387bc971-ba55-4160-bcfe-b37957be9d3e",
   "metadata": {},
   "outputs": [],
   "source": [
    "final_answer = answer_with_data(prompt, question, result)"
   ]
  },
  {
   "cell_type": "markdown",
   "id": "60c621e3-eff5-486f-a445-2870c8076691",
   "metadata": {},
   "source": [
    "---\n",
    "Chain은 사전정의된 작업을 연속 수행하는 방식이므로 비교적 단순한 Text2SQL 변환 작업을 반복 처리하기에 적합하지만, 사용자의 요청이 예상범위를 벗어난다면 에러가 발생할 수 있습니다.\n",
    "\n",
    "아래에서는 좀더 유연한 작업수행을 위한 Agent 활용 방법을 알아봅니다."
   ]
  },
  {
   "cell_type": "markdown",
   "id": "f9d72310-d33e-46b3-9719-3cbe6e2acf07",
   "metadata": {},
   "source": [
    "# SQL Agent 활용하기\n",
    "\n",
    "Agent는 LLM이 질문에 대한 답을 생성하기 위해, 스스로 추론하고 행동하는 Chain of Thought 접근 방법을 활용합니다.\n",
    "\n",
    "ReAct = Reasoning + Action 프롬프트를 제공해 LLM이 직접 추론 + 작업을 수행하도록 하고, 각 단계에서 Thought - Action - Observation 과정이 처리됩니다.\n",
    "(Chain은 LLM이 Action만 처리)\n",
    "\n",
    "LangChain에서는 Text2SQL의 전용 Agent 생성을 위해 `create_sql_agent` 라는 도구를 제공하며, 아래 파라미터를 지원합니다.\n",
    "| 파라미터명                   | 설명                                                                                           |\n",
    "|---------------------------|----------------------------------------------------------------------------------------------|\n",
    "| `llm`                       | 에이전트에 사용할 언어 모델입니다.                                                                                |\n",
    "| `toolkit`                   | 에이전트가 사용할 SQLDatabaseToolkit입니다. 'toolkit' 혹은 'db' 중 하나를 반드시 제공해야 합니다. 'toolkit'을 지정하면 에이전트와 다른 모델을 사용할 수 있습니다. |\n",
    "| `agent_type`                | \"openai-tools\", \"openai-functions\", \"zero-shot-react-description\" 중 하나입니다. 기본값은 \"zero-shot-react-description\"입니다.|\n",
    "| `prefix`                    | 프롬프트의 접두사 문자열입니다. \"top_k\" 및 \"dialect\" 변수를 포함해야 합니다.                                              |\n",
    "| `suffix`                    | 프롬프트의 접미사 문자열입니다. 기본값은 에이전트 유형에 따라 다릅니다.                                                  |\n",
    "| `format_instructions`       | 'agent_type'이 \"zero-shot-react-description\"일 때 ZeroShotAgent.create_prompt()에 전달할 형식 지침입니다. 그 외의 경우는 무시됩니다. |\n",
    "| `top_k`                     | 기본적으로 조회할 행의 수입니다.                                                                                  |\n",
    "| `max_iterations`            | AgentExecutor 초기 설정에 전달됩니다.                                                                            |\n",
    "| `max_execution_time`        | AgentExecutor 초기 설정에 전달됩니다.                                                                            |\n",
    "| `early_stopping_method`     | AgentExecutor 초기 설정에 전달됩니다.                                                                            |\n",
    "| `verbose`                   | AgentExecutor의 상세 모드입니다.                                                                                 |\n",
    "| `agent_executor_kwargs`     | AgentExecutor에 추가로 전달할 임의의 인자들입니다.                                                                   |\n",
    "| `extra_tools`               | 기본적으로 제공되는 도구들 외에 에이전트에 추가로 제공할 도구들입니다.                                                    |\n",
    "| `db`                        | SQLDatabaseToolkit을 생성할 때 사용할 SQLDatabase입니다. 'db'와 'llm'을 사용하여 툴킷이 생성됩니다. 'toolkit' 혹은 'db' 중 하나를 반드시 제공해야 합니다. |\n",
    "| `prompt`                    | 완전한 에이전트 프롬프트입니다. 'prompt'와 {prefix, suffix, format_instructions, input_variables}는 서로 배타적입니다. |\n",
    "\n",
    "\n",
    "- Toolkit으로는 `SQLDatabaseToolkit`을 사용하며, 여기에는 아래 도구들이 기본 포함됩니다.\n",
    "    - `sql_db_list_tables` : DB 테이블 목록 리턴\n",
    "    - `sql_db_query` : 쿼리 실행\n",
    "    - `sql_db_checker` : 쿼리 Syntax 점검\n",
    "    - `sql_db_schema` : 테이블 세부 구조 확인\n",
    "    - 기타"
   ]
  },
  {
   "cell_type": "markdown",
   "id": "fe66c5bb-0f71-42a3-9be6-08ee803d6750",
   "metadata": {},
   "source": [
    "### 1. `create_sql_agent` 기본 Agent 활용"
   ]
  },
  {
   "cell_type": "code",
   "execution_count": null,
   "id": "3203dd99-ff07-4ebb-8290-7321f884427d",
   "metadata": {},
   "outputs": [],
   "source": [
    "from langchain.agents import create_sql_agent\n",
    "from langchain.agents.agent_types import AgentType\n",
    "from langchain.agents.agent_toolkits import SQLDatabaseToolkit"
   ]
  },
  {
   "cell_type": "code",
   "execution_count": null,
   "id": "3979e49e-c3a1-4e64-a75b-97553c0c08d7",
   "metadata": {},
   "outputs": [],
   "source": [
    "toolkit = SQLDatabaseToolkit(db=db, llm=llm)\n",
    "for tool in toolkit.get_tools():\n",
    "    print(f\"Tool: {tool.__class__.__name__}\")\n",
    "    print(f\"Description: {tool.description}\\n\")"
   ]
  },
  {
   "cell_type": "code",
   "execution_count": null,
   "id": "e6dd4ff6-6769-4570-b9eb-10c47cc96e2f",
   "metadata": {},
   "outputs": [],
   "source": [
    "sql_agent = create_sql_agent(\n",
    "    llm=llm,\n",
    "    toolkit=toolkit,\n",
    "    agent_type=AgentType.ZERO_SHOT_REACT_DESCRIPTION\n",
    ")"
   ]
  },
  {
   "cell_type": "code",
   "execution_count": null,
   "id": "64216ac2-1919-4854-88b1-a749c87ff050",
   "metadata": {
    "scrolled": true
   },
   "outputs": [],
   "source": [
    "sql_agent.invoke(\"List the total sales per country. Which country's customers spent the most?\")"
   ]
  },
  {
   "cell_type": "markdown",
   "id": "64dd3ae3-db7d-439b-8b91-21ab042c5227",
   "metadata": {},
   "source": [
    "### 2. XML Agent 활용\n",
    "`create_sql_agent`는 내부적으로 ReAct Agent를 활용합니다.\n",
    "\n",
    "그런데 우리가 실습에 활용할 Claude 3 모델은 XML 양식의 질의응답에 최적화되어 있어서, Reasoning 과정에서 CoT 프롬프트의 호환 문제가 발생하기도 합니다.\n",
    "\n",
    "아래는 XML Agent를 SQLDatabaseToolkit과 함께 활용하는 방법입니다."
   ]
  },
  {
   "cell_type": "code",
   "execution_count": null,
   "id": "58627d99-b252-4795-b8c8-ff92e1c923a7",
   "metadata": {
    "scrolled": true
   },
   "outputs": [],
   "source": [
    "from langchain import hub\n",
    "prompt = hub.pull(\"hwchase17/xml-agent-convo\")\n",
    "prompt.pretty_print()"
   ]
  },
  {
   "cell_type": "code",
   "execution_count": null,
   "id": "b9a50eb8-170e-4bee-89a4-ddb1af3881f8",
   "metadata": {},
   "outputs": [],
   "source": [
    "prompt = \"\"\"\n",
    "================================ Human Message =================================\n",
    "\n",
    "You are a helpful assistant. Help the user answer any questions.\n",
    "\n",
    "In this environment you have access to a set of tools you can use to answer the user's question.\n",
    "You may call them like this:\n",
    "<tools>\n",
    "{tools}\n",
    "</tools>\n",
    "\n",
    "In order to use a tool, you can use <tool></tool> and <tool_input></tool_input> tags. \n",
    "You will then get back a response in the form <observation></observation>.\n",
    "For example, if you have a tool called 'sql_db_schema' that could retrieve Database schema, in order to describe the playlisttrack table you would respond:\n",
    "\n",
    "<tool>sql_db_list_tables</tool><tool_input></tool_input>\n",
    "\n",
    "<observation>Album, Artist, Customer, Employee, Genre, Invoice, InvoiceLine, MediaType, Playlist, PlaylistTrack, Track</observation>\n",
    "\n",
    "<tool>sql_db_schema</tool><tool_input>PlatListTrack</tool_input>\n",
    "\n",
    "<observation>\n",
    "CREATE TABLE \"PlaylistTrack\" (\n",
    "    \"PlaylistId\" INTEGER NOT NULL, \n",
    "    \"TrackId\" INTEGER NOT NULL, \n",
    "    PRIMARY KEY (\"PlaylistId\", \"TrackId\"), \n",
    "    FOREIGN KEY(\"TrackId\") REFERENCES \"Track\" (\"TrackId\"), \n",
    "    FOREIGN KEY(\"PlaylistId\") REFERENCES \"Playlist\" (\"PlaylistId\")\n",
    ")\n",
    "/*\n",
    "3 rows from PlaylistTrack table:\n",
    "PlaylistId  TrackId\n",
    "1   3402\n",
    "1   3389\n",
    "1   3390\n",
    "*/\n",
    "</observation>\n",
    "\n",
    "\n",
    "When you are done, respond with a final answer between <final_answer></final_answer>. For example:\n",
    "\n",
    "<final_answer>\n",
    "Here is the schema of the `PlaylistTrack` table:\n",
    "```\n",
    "CREATE TABLE \"PlaylistTrack\" (\n",
    "    \"PlaylistId\" INTEGER NOT NULL, \n",
    "    \"TrackId\" INTEGER NOT NULL, \n",
    "    PRIMARY KEY (\"PlaylistId\", \"TrackId\"), \n",
    "    FOREIGN KEY(\"TrackId\") REFERENCES \"Track\" (\"TrackId\"), \n",
    "    FOREIGN KEY(\"PlaylistId\") REFERENCES \"Playlist\" (\"PlaylistId\")\n",
    ")\n",
    "```\n",
    "The `PlaylistId` column is a foreign key referencing the `PlaylistId` column in the `Playlist` table. \n",
    "The `TrackId` column is a foreign key referencing the `TrackId` column in the `Track` table.\n",
    "Here are three sample rows from the `PlaylistTrack` table:\n",
    "```\n",
    "PlaylistId   TrackId\n",
    "1            3402\n",
    "1            3389\n",
    "1            3390\n",
    "```\n",
    "</final_answer>\n",
    "\n",
    "Begin!\n",
    "\n",
    "Question: {input}\n",
    "{agent_scratchpad}\n",
    "\"\"\"\n",
    "\n",
    "from langchain import PromptTemplate\n",
    "prompt = PromptTemplate.from_template(prompt)"
   ]
  },
  {
   "cell_type": "code",
   "execution_count": null,
   "id": "f10cdc77-7eb7-4cd2-9678-bbc4468fbcfb",
   "metadata": {},
   "outputs": [],
   "source": [
    "from langchain.agents import AgentExecutor, create_xml_agent\n",
    "\n",
    "toolkit = SQLDatabaseToolkit(db=db, llm=llm)\n",
    "tools = toolkit.get_tools() \n",
    "\n",
    "agent = create_xml_agent(\n",
    "    llm=llm,\n",
    "    tools=tools,\n",
    "    prompt=prompt\n",
    ")\n",
    "\n",
    "# AgentExecutor는 Agent의 런타임 클래스입니다\n",
    "agent_executor = AgentExecutor(agent=agent, tools=tools, verbose=False)"
   ]
  },
  {
   "cell_type": "code",
   "execution_count": null,
   "id": "1a02832d-3b7c-44b5-ae54-b38d4d304f3c",
   "metadata": {
    "scrolled": true
   },
   "outputs": [],
   "source": [
    "answer = agent_executor.invoke({\"input\":\"List the total sales per country. Which country's customers spent the most?\"})"
   ]
  },
  {
   "cell_type": "code",
   "execution_count": null,
   "id": "984a0461-a84b-4a7b-8f83-b6f0513931bb",
   "metadata": {
    "scrolled": true
   },
   "outputs": [],
   "source": [
    "print(answer['output'])"
   ]
  },
  {
   "cell_type": "code",
   "execution_count": null,
   "id": "3c11a60b-2ab0-40b0-8b71-9f5c555f6c8f",
   "metadata": {
    "scrolled": true
   },
   "outputs": [],
   "source": [
    "answer = agent_executor.invoke({\"input\":\"List the Top-10 customers spent the most\"})"
   ]
  },
  {
   "cell_type": "code",
   "execution_count": null,
   "id": "1a562698-6a49-4943-b5c4-9167d1639cd6",
   "metadata": {
    "scrolled": true
   },
   "outputs": [],
   "source": [
    "print(answer['output'])"
   ]
  },
  {
   "cell_type": "markdown",
   "id": "5d731e7e-3a3c-4dac-9e92-4b0b5e4d2283",
   "metadata": {},
   "source": [
    "# Dynamic Few-shot Prompting"
   ]
  },
  {
   "cell_type": "markdown",
   "id": "b0d711d5-e1c2-4540-aab4-ef8f70daff3b",
   "metadata": {},
   "source": [
    "### 쿼리 생성 시 참고할 예시 데이터"
   ]
  },
  {
   "cell_type": "code",
   "execution_count": null,
   "id": "4a53bc6d-6911-4ddb-8804-4ea806f7857e",
   "metadata": {},
   "outputs": [],
   "source": [
    "examples = [\n",
    "    {\n",
    "        \"input\": \"List all artists.\", \n",
    "        \"query\": \"SELECT * FROM Artist;\"},\n",
    "    {\n",
    "        \"input\": \"Find all albums for the artist 'AC/DC'.\",\n",
    "        \"query\": \"SELECT * FROM Album WHERE ArtistId = (SELECT ArtistId FROM Artist WHERE Name = 'AC/DC');\",\n",
    "    },\n",
    "    {\n",
    "        \"input\": \"List all tracks in the 'Rock' genre.\",\n",
    "        \"query\": \"SELECT * FROM Track WHERE GenreId = (SELECT GenreId FROM Genre WHERE Name = 'Rock');\",\n",
    "    },\n",
    "    {\n",
    "        \"input\": \"Find the total duration of all tracks.\",\n",
    "        \"query\": \"SELECT SUM(Milliseconds) FROM Track;\",\n",
    "    },\n",
    "    {\n",
    "        \"input\": \"List all customers from Canada.\",\n",
    "        \"query\": \"SELECT * FROM Customer WHERE Country = 'Canada';\",\n",
    "    },\n",
    "    {\n",
    "        \"input\": \"How many tracks are there in the album with ID 5?\",\n",
    "        \"query\": \"SELECT COUNT(*) FROM Track WHERE AlbumId = 5;\",\n",
    "    },\n",
    "    {\n",
    "        \"input\": \"Find the total number of invoices.\",\n",
    "        \"query\": \"SELECT COUNT(*) FROM Invoice;\",\n",
    "    },\n",
    "    {\n",
    "        \"input\": \"List all tracks that are longer than 5 minutes.\",\n",
    "        \"query\": \"SELECT * FROM Track WHERE Milliseconds > 300000;\",\n",
    "    },\n",
    "    {\n",
    "        \"input\": \"Who are the top 5 customers by total purchase?\",\n",
    "        \"query\": \"SELECT CustomerId, SUM(Total) AS TotalPurchase FROM Invoice GROUP BY CustomerId ORDER BY TotalPurchase DESC LIMIT 5;\",\n",
    "    },\n",
    "    {\n",
    "        \"input\": \"How many employees are there\",\n",
    "        \"query\": 'SELECT COUNT(*) FROM \"Employee\"',\n",
    "    },\n",
    "]"
   ]
  },
  {
   "cell_type": "markdown",
   "id": "58e32ce5-4459-46a9-8c33-5c2d5fa622b6",
   "metadata": {},
   "source": [
    "### `SemanticSimilarityExampleSelector`\n",
    "- 예시 데이터 저장 : 예시 데이터를 벡터임베딩으로 변환해서 FAISS에 저장합니다.\n",
    "- 예시 데이터 탐색 : 사용자 질문과 비슷한 Top-K의 예시 데이터를 얻어냅니다.\n",
    "- `FewShotPromptTemplate` : 동적으로 얻어낸 예시 데이터를 프롬프트에 반영"
   ]
  },
  {
   "cell_type": "code",
   "execution_count": null,
   "id": "1e7051f3-1c30-4d60-9786-34f40f226616",
   "metadata": {},
   "outputs": [],
   "source": [
    "from langchain_community.vectorstores import FAISS\n",
    "from langchain_core.example_selectors import SemanticSimilarityExampleSelector\n",
    "from langchain_core.prompts import FewShotPromptTemplate, PromptTemplate\n",
    "from langchain.embeddings import BedrockEmbeddings"
   ]
  },
  {
   "cell_type": "code",
   "execution_count": null,
   "id": "728703c8-4aa6-4c02-a1cb-8476fdc74410",
   "metadata": {},
   "outputs": [],
   "source": [
    "example_prompt = PromptTemplate(\n",
    "    input_variables=[\"input\", \"query\"],\n",
    "    template=\"User input: {input}\\nSQL query: {query}\"\n",
    ")\n",
    "\n",
    "example_selector = SemanticSimilarityExampleSelector.from_examples(\n",
    "    examples,\n",
    "    BedrockEmbeddings(model_id=\"amazon.titan-embed-text-v1\", client=bedrock_client),\n",
    "    FAISS,\n",
    "    k=5,\n",
    "    input_keys=[\"input\"],\n",
    ")"
   ]
  },
  {
   "cell_type": "code",
   "execution_count": null,
   "id": "582012f0-041b-40bd-ba79-5aa0ebb619a6",
   "metadata": {},
   "outputs": [],
   "source": [
    "PREFIX = \"\"\"\n",
    "================================ Human Message =================================\n",
    "\n",
    "You are a helpful assistant. Help the user answer any questions.\n",
    "\n",
    "In this environment you have access to a set of tools you can use to answer the user's question.\n",
    "You may call them like this:\n",
    "<tools>\n",
    "{tools}\n",
    "</tools>\n",
    "\n",
    "Here are some examples of user inputs and their corresponding SQL queries:\n",
    "\"\"\"\n",
    "\n",
    "SUFFIX = \"\"\"\n",
    "In order to use a tool, you can use <tool></tool> and <tool_input></tool_input> tags. \n",
    "You will then get back a response in the form <observation></observation>.\n",
    "For example, if you have a tool called 'sql_db_schema' that could retrieve Database schema, in order to describe the playlisttrack table you would respond:\n",
    "\n",
    "<tool>sql_db_list_tables</tool><tool_input></tool_input>\n",
    "\n",
    "<observation>Album, Artist, Customer, Employee, Genre, Invoice, InvoiceLine, MediaType, Playlist, PlaylistTrack, Track</observation>\n",
    "\n",
    "<tool>sql_db_schema</tool><tool_input>PlatListTrack</tool_input>\n",
    "\n",
    "<observation>\n",
    "CREATE TABLE \"PlaylistTrack\" (\n",
    "    \"PlaylistId\" INTEGER NOT NULL, \n",
    "    \"TrackId\" INTEGER NOT NULL, \n",
    "    PRIMARY KEY (\"PlaylistId\", \"TrackId\"), \n",
    "    FOREIGN KEY(\"TrackId\") REFERENCES \"Track\" (\"TrackId\"), \n",
    "    FOREIGN KEY(\"PlaylistId\") REFERENCES \"Playlist\" (\"PlaylistId\")\n",
    ")\n",
    "/*\n",
    "3 rows from PlaylistTrack table:\n",
    "PlaylistId  TrackId\n",
    "1   3402\n",
    "1   3389\n",
    "1   3390\n",
    "*/\n",
    "</observation>\n",
    "\n",
    "\n",
    "When you are done, respond with a final answer between <final_answer></final_answer>. For example:\n",
    "\n",
    "<final_answer>\n",
    "Here is the schema of the `PlaylistTrack` table:\n",
    "```\n",
    "CREATE TABLE \"PlaylistTrack\" (\n",
    "    \"PlaylistId\" INTEGER NOT NULL, \n",
    "    \"TrackId\" INTEGER NOT NULL, \n",
    "    PRIMARY KEY (\"PlaylistId\", \"TrackId\"), \n",
    "    FOREIGN KEY(\"TrackId\") REFERENCES \"Track\" (\"TrackId\"), \n",
    "    FOREIGN KEY(\"PlaylistId\") REFERENCES \"Playlist\" (\"PlaylistId\")\n",
    ")\n",
    "```\n",
    "The `PlaylistId` column is a foreign key referencing the `PlaylistId` column in the `Playlist` table. \n",
    "The `TrackId` column is a foreign key referencing the `TrackId` column in the `Track` table.\n",
    "Here are three sample rows from the `PlaylistTrack` table:\n",
    "```\n",
    "PlaylistId   TrackId\n",
    "1            3402\n",
    "1            3389\n",
    "1            3390\n",
    "```\n",
    "</final_answer>\n",
    "\n",
    "Begin!\n",
    "\n",
    "Question: {input}\n",
    "{agent_scratchpad}\n",
    "\"\"\""
   ]
  },
  {
   "cell_type": "code",
   "execution_count": null,
   "id": "d0d59180-d8b5-4b12-a5ea-9a436bb179b4",
   "metadata": {},
   "outputs": [],
   "source": [
    "few_shot_prompt = FewShotPromptTemplate(\n",
    "    example_selector=example_selector,\n",
    "    example_prompt=example_prompt,\n",
    "    prefix=PREFIX,\n",
    "    suffix=SUFFIX,\n",
    "    input_variables=[\"input\", \"query\"]\n",
    ")"
   ]
  },
  {
   "cell_type": "code",
   "execution_count": null,
   "id": "70027f5f-21be-4875-b633-785af73fe665",
   "metadata": {
    "scrolled": true
   },
   "outputs": [],
   "source": [
    "print(few_shot_prompt.format(input='Let me know the 10 customers who purchased the most', tools=tools, agent_scratchpad=[]))"
   ]
  },
  {
   "cell_type": "code",
   "execution_count": null,
   "id": "52c1eb95-f76a-419f-919a-85c1bac715c8",
   "metadata": {},
   "outputs": [],
   "source": [
    "from langchain.agents import AgentExecutor, create_xml_agent\n",
    "\n",
    "toolkit = SQLDatabaseToolkit(db=db, llm=llm)\n",
    "tools = toolkit.get_tools() \n",
    "\n",
    "agent = create_xml_agent(\n",
    "    llm=llm,\n",
    "    tools=tools,\n",
    "    prompt=few_shot_prompt,\n",
    ")\n",
    "\n",
    "# AgentExecutor는 Agent의 런타임 클래스입니다\n",
    "agent_executor = AgentExecutor(agent=agent, tools=tools, verbose=False)"
   ]
  },
  {
   "cell_type": "code",
   "execution_count": null,
   "id": "b6f5fda2-cdd9-4897-ab21-6f785b64b7ce",
   "metadata": {
    "scrolled": true
   },
   "outputs": [],
   "source": [
    "answer = agent_executor.invoke({\"input\": \"Let me know the 10 customers who purchased the most\"})"
   ]
  },
  {
   "cell_type": "code",
   "execution_count": null,
   "id": "2548ad48-677d-43a3-a2c1-27cadc9412e3",
   "metadata": {},
   "outputs": [],
   "source": [
    "print(answer['output'])"
   ]
  },
  {
   "cell_type": "code",
   "execution_count": null,
   "id": "a80f2cc2-0187-4d30-b85b-3b78a0123246",
   "metadata": {
    "scrolled": true
   },
   "outputs": [],
   "source": [
    "new_example = {\n",
    "    \"input\": \"Which albums are from the year 2000?\",\n",
    "    \"query\": \"SELECT * FROM Album WHERE strftime('%Y', ReleaseDate) = '2000';\",\n",
    "}"
   ]
  },
  {
   "cell_type": "code",
   "execution_count": null,
   "id": "1996fc7c-899d-4211-9e4d-48af4299f638",
   "metadata": {},
   "outputs": [],
   "source": [
    "example_selector.add_example(new_example)"
   ]
  },
  {
   "cell_type": "code",
   "execution_count": null,
   "id": "5243f56e-1520-496b-9847-268e274773ee",
   "metadata": {
    "scrolled": true
   },
   "outputs": [],
   "source": [
    "print(few_shot_prompt.format(input=\"Which albums are from the year 2010?\", tools=tools, agent_scratchpad=[]))"
   ]
  }
 ],
 "metadata": {
  "kernelspec": {
   "display_name": "Python 3 (ipykernel)",
   "language": "python",
   "name": "python3"
  },
  "language_info": {
   "codemirror_mode": {
    "name": "ipython",
    "version": 3
   },
   "file_extension": ".py",
   "mimetype": "text/x-python",
   "name": "python",
   "nbconvert_exporter": "python",
   "pygments_lexer": "ipython3",
   "version": "3.10.13"
  }
 },
 "nbformat": 4,
 "nbformat_minor": 5
}
