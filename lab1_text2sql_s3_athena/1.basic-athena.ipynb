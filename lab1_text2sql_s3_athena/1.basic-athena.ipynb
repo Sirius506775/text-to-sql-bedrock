{
 "cells": [
  {
   "cell_type": "markdown",
   "id": "835c0035-2fab-44bb-97aa-2a900f970469",
   "metadata": {},
   "source": [
    "# Lab. 1-1 Text2SQL Basic (Athena & Amazon S3)\n",
    "\n",
    "#### 이 실습에서는 Text2SQL을 활용해서 S3에 저장된 데이터에 Athena 쿼리로 접근하는 방법을 실습합니다.\n",
    "\n",
    "![Intro](../images/text2sql/athena-s3-1.png)\n",
    "\n",
    "\n",
    "#### Amazon S3에 저장된 로그나 데이터마트에 자연어로 데이터를 조회하려는 경우, Text2SQL 및 Athena를 사용할 수 있습니다.\n",
    "\n",
    "#### 여기서는 샘플 쿼리와 스키마 정보를 하나의 컨텍스트로 제공합니다. 데이터 접근 방식이 단순하고 사용자의 질문이 정형화 되어있는 경우, 이렇듯 가장 간단하게 Text2SQL을 시도할 수 있습니다."
   ]
  },
  {
   "cell_type": "markdown",
   "id": "d66353b5-8942-4087-b1b3-c57af3fde533",
   "metadata": {},
   "source": [
    "## Step 0: 라이브러리 설치 및 Athena 연결"
   ]
  },
  {
   "cell_type": "code",
   "execution_count": null,
   "id": "73ad3f83-fe93-4131-8d89-9af2c2b6bcff",
   "metadata": {},
   "outputs": [],
   "source": [
    "!python -m ensurepip --upgrade\n",
    "!pip install \"sqlalchemy\" --quiet\n",
    "!pip install \"boto3>=1.34.116\"  --quiet\n",
    "!pip install \"jinja2\" --quiet\n",
    "!pip install \"botocore\" --quiet\n",
    "!pip install \"pandas\" --quiet\n",
    "!pip install \"PyAthena\" --quiet\n",
    "!pip install \"faiss-cpu\" --quiet"
   ]
  },
  {
   "cell_type": "code",
   "execution_count": null,
   "id": "2201c470-a24e-412e-a6bb-7f3977e6b886",
   "metadata": {},
   "outputs": [],
   "source": [
    "import json\n",
    "import boto3\n",
    "import sys\n",
    "\n",
    "sys.path.append('../')\n",
    "from libs.din_sql import din_sql_lib as dsl"
   ]
  },
  {
   "cell_type": "code",
   "execution_count": null,
   "id": "f59dcca5-a593-469b-9817-9a1a2dc784ec",
   "metadata": {},
   "outputs": [],
   "source": [
    "ATHENA_CATALOG_NAME = '' # check https://us-west-2.console.aws.amazon.com/cloudformation/home?region=us-west-2#/stacks\n",
    "ATHENA_RESULTS_S3_LOCATION = '' # check https://us-west-2.console.aws.amazon.com/cloudformation/home?region=us-west-2#/stacks\n",
    "DB_NAME = \"tpcds1\""
   ]
  },
  {
   "cell_type": "code",
   "execution_count": null,
   "id": "14d6d660-6f3c-429f-8cf9-2cca282f92d1",
   "metadata": {},
   "outputs": [],
   "source": [
    "from libs.din_sql import din_sql_lib as dsl\n",
    "\n",
    "model_id = 'anthropic.claude-3-sonnet-20240229-v1:0'\n",
    "\n",
    "din_sql = dsl.DIN_SQL(bedrock_model_id=model_id)"
   ]
  },
  {
   "cell_type": "code",
   "execution_count": null,
   "id": "f8b27af7-ed37-498d-b3dc-4993f6e8805c",
   "metadata": {},
   "outputs": [],
   "source": [
    "din_sql.athena_connect(catalog_name=ATHENA_CATALOG_NAME, \n",
    "               db_name=DB_NAME, \n",
    "               s3_prefix=ATHENA_RESULTS_S3_LOCATION)"
   ]
  },
  {
   "cell_type": "markdown",
   "id": "4334adf7-c295-4174-a869-c63058bf6c64",
   "metadata": {},
   "source": [
    "## Step 1: 프롬프트 구성"
   ]
  },
  {
   "cell_type": "code",
   "execution_count": null,
   "id": "95aab01c-5a1f-4a61-8a4c-1e3e54b7b613",
   "metadata": {},
   "outputs": [],
   "source": [
    "return_sql= din_sql.find_fields(db_name=DB_NAME)\n",
    "print(return_sql)"
   ]
  },
  {
   "cell_type": "code",
   "execution_count": null,
   "id": "b9b9d559-2631-4ded-9fda-c24679d0b249",
   "metadata": {
    "scrolled": true
   },
   "outputs": [],
   "source": [
    "import os\n",
    "import os\n",
    "import jinja2 as j\n",
    "\n",
    "question = \"Which customer spent the most money in the web store?\"\n",
    "\n",
    "instructions_tag_start = '<instructions>'\n",
    "instructions_tag_end = '</instructions>'\n",
    "example_tag_start = '<example>'\n",
    "example_tag_end = '</example>'\n",
    "sql_tag_start = '```sql'\n",
    "sql_tag_end = '```'\n",
    "\n",
    "template_dir = \"../libs/din_sql/prompt_templates\"\n",
    "\n",
    "template_file = os.path.join(template_dir, 'basic_prompt.txt.jinja')\n",
    "if not os.path.isfile(template_file):\n",
    "    raise FileNotFoundError(f\"Template file '{template_file}' not found\")\n",
    "\n",
    "JINJA_ENV = j.Environment(\n",
    "    loader=j.FileSystemLoader(template_dir),\n",
    "    autoescape=j.select_autoescape(\n",
    "        enabled_extensions=('jinja'),\n",
    "        default_for_string=True,\n",
    "    )\n",
    ")\n",
    "\n",
    "easy_prompt = JINJA_ENV.get_template('basic_prompt.txt.jinja')\n",
    "prompt = easy_prompt.render(\n",
    "    instruction_tag_start=instructions_tag_start,\n",
    "    instruction_tag_end=instructions_tag_end,\n",
    "    fields=return_sql,\n",
    "    example_tag_start=example_tag_start,\n",
    "    example_tag_end=example_tag_end,\n",
    "    test_sample_text=question,\n",
    "    sql_tag_start=sql_tag_start,\n",
    "    sql_tag_end=sql_tag_end\n",
    ")\n",
    "print(prompt)"
   ]
  },
  {
   "cell_type": "markdown",
   "id": "0ba5190e-9175-45c9-9e60-77dc2bce1536",
   "metadata": {},
   "source": [
    "## Step 2: LLM을 사용해 쿼리 생성"
   ]
  },
  {
   "cell_type": "code",
   "execution_count": null,
   "id": "938cd9e4-17cd-4df0-9fd6-f61c4b4e01ee",
   "metadata": {},
   "outputs": [],
   "source": [
    "import json\n",
    "import boto3\n",
    "\n",
    "bedrock_client = boto3.client(service_name='bedrock-runtime')\n",
    "\n",
    "def llm_generation(prompt, stop_sequences=[], word_in_mouth=None):\n",
    "    user_message =  {\"role\": \"user\", \"content\": prompt}\n",
    "    messages = [user_message]\n",
    "    if word_in_mouth:\n",
    "        messages.append({\n",
    "            \"role\": \"assistant\",\n",
    "            \"content\": word_in_mouth,\n",
    "        })\n",
    "    response = bedrock_client.invoke_model(\n",
    "        modelId=model_id,\n",
    "        body=json.dumps({\n",
    "            \"anthropic_version\": \"bedrock-2023-05-31\",\n",
    "            \"messages\": messages,\n",
    "            \"temperature\": 0,\n",
    "            \"max_tokens\": 8000,\n",
    "            \"stop_sequences\": stop_sequences,\n",
    "            })\n",
    "    )\n",
    "    response_dict = json.loads(response.get('body').read().decode(\"utf-8\"))\n",
    "    results = response_dict[\"content\"][0][\"text\"]\n",
    "    return results\n",
    "\n",
    "sql_qry = llm_generation(prompt)"
   ]
  },
  {
   "cell_type": "code",
   "execution_count": null,
   "id": "9fc30fb8-00d1-45cc-86d6-24155a858492",
   "metadata": {},
   "outputs": [],
   "source": [
    "SQL = sql_qry.split('```sql')[1].split('```')[0].strip()\n",
    "print(f\"{SQL}\")"
   ]
  },
  {
   "cell_type": "markdown",
   "id": "2031f107-e944-474e-8605-ce8d40f6f881",
   "metadata": {},
   "source": [
    "## Step 3: Athena 쿼리 실행"
   ]
  },
  {
   "cell_type": "code",
   "execution_count": null,
   "id": "457a3ccb-bb61-47ae-9f06-e634ceca0eb6",
   "metadata": {},
   "outputs": [],
   "source": [
    "import pandas as pd\n",
    "result_set = din_sql.query(SQL)\n",
    "pd.DataFrame(result_set)"
   ]
  },
  {
   "cell_type": "markdown",
   "id": "8f1ab075-5d03-4193-9425-e9fc8153a0f6",
   "metadata": {},
   "source": [
    "## Step 4: 쿼리 결과를 활용해 답변 - 생략"
   ]
  },
  {
   "cell_type": "markdown",
   "id": "56e2d5c0-4eb0-4cf8-a947-401fd8b9552a",
   "metadata": {},
   "source": [
    "#### 여기에서는 하나의 LLM 호출로 쿼리를 생성했으나, 사용자의 질문 유형에 따라 복잡한 쿼리를 생성해야 하는 경우 잘 동작하지 않을 것입니다.\n",
    "#### 이후 실습에서는 이를 개선하는 방법에 대해 테스트합니다."
   ]
  }
 ],
 "metadata": {
  "kernelspec": {
   "display_name": "Python 3 (ipykernel)",
   "language": "python",
   "name": "python3"
  },
  "language_info": {
   "codemirror_mode": {
    "name": "ipython",
    "version": 3
   },
   "file_extension": ".py",
   "mimetype": "text/x-python",
   "name": "python",
   "nbconvert_exporter": "python",
   "pygments_lexer": "ipython3",
   "version": "3.10.14"
  }
 },
 "nbformat": 4,
 "nbformat_minor": 5
}
