{
 "cells": [
  {
   "cell_type": "markdown",
   "metadata": {},
   "source": [
    "## Preparing Security Settings"
   ]
  },
  {
   "cell_type": "markdown",
   "metadata": {},
   "source": [
    "### Security Policy"
   ]
  },
  {
   "cell_type": "code",
   "execution_count": 22,
   "metadata": {},
   "outputs": [],
   "source": [
    "import json\n",
    "import boto3\n",
    "\n",
    "oss_client = boto3.client('opensearchserverless')\n",
    "collection_name = \"text2sql-collection\"\n",
    "\n",
    "network_security_policy = json.dumps([{\n",
    "    \"Rules\": [\n",
    "        {\n",
    "            \"Resource\": [\n",
    "                f\"collection/{collection_name}\"\n",
    "            ],\n",
    "            \"ResourceType\": \"dashboard\"\n",
    "        },\n",
    "        {\n",
    "            \"Resource\": [\n",
    "                f\"collection/{collection_name}\"\n",
    "            ],\n",
    "            \"ResourceType\": \"collection\"\n",
    "        }\n",
    "    ],\n",
    "    \"AllowFromPublic\": True\n",
    "}], indent=2)\n"
   ]
  },
  {
   "cell_type": "code",
   "execution_count": null,
   "metadata": {},
   "outputs": [],
   "source": [
    "try:\n",
    "    oss_client.create_security_policy(\n",
    "        description='Encryption policy for text2sql-collection',\n",
    "        name='text2sql-security-policy',\n",
    "        policy=network_security_policy,\n",
    "        type='network'\n",
    "    )\n",
    "    print(\"Security policy created successfully.\")\n",
    "except oss_client.exceptions.ConflictException:\n",
    "    print(\"Security policy already exists. Skipping creation.\")"
   ]
  },
  {
   "cell_type": "markdown",
   "metadata": {},
   "source": [
    "### Encryption Policy"
   ]
  },
  {
   "cell_type": "code",
   "execution_count": 26,
   "metadata": {},
   "outputs": [],
   "source": [
    "encryption_policy = json.dumps(\n",
    "    {\n",
    "        'Rules': [{'Resource': ['collection/' + collection_name],\n",
    "                    'ResourceType': 'collection'}],\n",
    "        'AWSOwnedKey': True\n",
    "    }\n",
    ")"
   ]
  },
  {
   "cell_type": "code",
   "execution_count": null,
   "metadata": {},
   "outputs": [],
   "source": [
    "try:\n",
    "    oss_client.create_security_policy(\n",
    "        description='Encryption policy for text2sql-collection',\n",
    "        name='text2sql-encryption-policy',\n",
    "        policy=encryption_policy,\n",
    "        type='encryption'\n",
    "    )\n",
    "    print(\"Encryption policy created successfully.\")\n",
    "except oss_client.exceptions.ConflictException:\n",
    "    print(\"Encryption policy already exists. Skipping creation.\")"
   ]
  },
  {
   "cell_type": "markdown",
   "metadata": {},
   "source": [
    "### Data Access Policy"
   ]
  },
  {
   "cell_type": "code",
   "execution_count": 11,
   "metadata": {},
   "outputs": [],
   "source": [
    "sts_client = boto3.client('sts')\n",
    "response = sts_client.get_caller_identity()\n",
    "\n",
    "principal_arn = response['Arn']\n",
    "\n",
    "data_access_policy = json.dumps([\n",
    "      {\n",
    "        \"Rules\": [\n",
    "          {\n",
    "            \"Resource\": [\n",
    "              f\"collection/{collection_name}\"\n",
    "            ],\n",
    "            \"Permission\": [\n",
    "              \"aoss:CreateCollectionItems\",\n",
    "              \"aoss:DeleteCollectionItems\",\n",
    "              \"aoss:UpdateCollectionItems\",\n",
    "              \"aoss:DescribeCollectionItems\"\n",
    "            ],\n",
    "            \"ResourceType\": \"collection\"\n",
    "          },\n",
    "          {\n",
    "            \"Resource\": [\n",
    "              f\"index/{collection_name}/*\"\n",
    "            ],\n",
    "            \"Permission\": [\n",
    "              \"aoss:CreateIndex\",\n",
    "              \"aoss:DeleteIndex\",\n",
    "              \"aoss:UpdateIndex\",\n",
    "              \"aoss:DescribeIndex\",\n",
    "              \"aoss:ReadDocument\",\n",
    "              \"aoss:WriteDocument\"\n",
    "            ],\n",
    "            \"ResourceType\": \"index\"\n",
    "          }\n",
    "        ],\n",
    "        \"Principal\": [\n",
    "          f\"{principal_arn}\"\n",
    "        ],\n",
    "        \"Description\": \"data-access-rule\"\n",
    "      }\n",
    "    ], indent=2)"
   ]
  },
  {
   "cell_type": "code",
   "execution_count": null,
   "metadata": {},
   "outputs": [],
   "source": [
    "try:\n",
    "    oss_client.create_access_policy(\n",
    "        description='Access policy for text2sql-collection',\n",
    "        name='text2sql-access-policy',\n",
    "        policy=data_access_policy,\n",
    "        type='data'\n",
    "    )\n",
    "    print(\"Data access policy created successfully.\")\n",
    "except oss_client.exceptions.ConflictException:\n",
    "    print(\"Data access  policy already exists. Skipping creation.\")"
   ]
  },
  {
   "cell_type": "markdown",
   "metadata": {},
   "source": [
    "## Creating OpenSearch Serverless Collection"
   ]
  },
  {
   "cell_type": "code",
   "execution_count": null,
   "metadata": {},
   "outputs": [],
   "source": [
    "def get_collection_status(client, collection_id):\n",
    "    response = client.batch_get_collection(ids=[collection_id])\n",
    "    return response['collectionDetails'][0]['status']\n",
    "\n",
    "\n",
    "existing_collection = oss_client.batch_get_collection(names=[collection_name])\n",
    "if existing_collection['collectionDetails']:\n",
    "    print(f\"Collection '{collection_name}' already exists.\")\n",
    "    collection_detail = existing_collection['collectionDetails'][0]\n",
    "else:\n",
    "    response = oss_client.create_collection(\n",
    "                name=collection_name,\n",
    "                description=\"A collection for vector search operations\",\n",
    "                type=\"VECTORSEARCH\",\n",
    "                standbyReplicas='DISABLED'\n",
    "            )\n",
    "    collection_detail = response['createCollectionDetail']\n",
    "    print(f\"Collection '{collection_name}' created successfully.\")\n",
    "\n",
    "collection_id = collection_detail['id']\n",
    "collection_arn = collection_detail['arn']"
   ]
  },
  {
   "cell_type": "code",
   "execution_count": null,
   "metadata": {},
   "outputs": [],
   "source": [
    "import time\n",
    "\n",
    "print(\"\\nWaiting for collection to become active...\")\n",
    "while True:\n",
    "    status = get_collection_status(oss_client, collection_id)\n",
    "    print(f\"Current status: {status}\")\n",
    "    if status == 'ACTIVE':\n",
    "        print(\"Collection is now active!\")\n",
    "        break\n",
    "    elif status == 'FAILED':\n",
    "        print(\"Collection creation failed.\")\n",
    "        exit(1)\n",
    "    time.sleep(30)\n",
    "\n",
    "final_collection = oss_client.batch_get_collection(ids=[collection_id])\n",
    "final_detail = final_collection['collectionDetails'][0]\n",
    "\n",
    "collection_endpoint = final_detail.get('collectionEndpoint', 'Not available')\n",
    "dashboard_endpoint = final_detail.get('dashboardEndpoint', 'Not available')\n",
    "collection_status = final_detail['status']\n",
    "\n",
    "print(\"\\nFinal Collection Details:\")\n",
    "print(f\"Collection Name: {collection_name}\")\n",
    "print(f\"Collection ID: {collection_id}\")\n",
    "print(f\"Collection ARN: {collection_arn}\")\n",
    "print(f\"Collection Endpoint: {collection_endpoint}\")\n",
    "print(f\"Dashboard Endpoint: {dashboard_endpoint}\")\n",
    "print(f\"Collection Status: {collection_status}\")"
   ]
  },
  {
   "cell_type": "code",
   "execution_count": null,
   "metadata": {},
   "outputs": [],
   "source": [
    "%store collection_name collection_arn collection_id collection_endpoint dashboard_endpoint collection_status"
   ]
  },
  {
   "cell_type": "code",
   "execution_count": 33,
   "metadata": {},
   "outputs": [],
   "source": [
    "!pip install -q python-dotenv"
   ]
  },
  {
   "cell_type": "code",
   "execution_count": null,
   "metadata": {},
   "outputs": [],
   "source": [
    "from dotenv import load_dotenv, set_key\n",
    "import os\n",
    "\n",
    "current_path = os.getcwd()\n",
    "parent_path = os.path.dirname(current_path)\n",
    "env_path = os.path.join(parent_path, '.env')\n",
    "\n",
    "load_dotenv(dotenv_path=env_path)\n",
    "\n",
    "variables = {\n",
    "    'COLLECTION_NAME': collection_name,\n",
    "    'COLLECTION_ARN': collection_arn,\n",
    "    'COLLECTION_ID': collection_id,\n",
    "    'COLLECTION_ENDPOINT': collection_endpoint,\n",
    "    'DASHBOARD_ENDPOINT': dashboard_endpoint,\n",
    "    'COLLECTION_STATUS': collection_status\n",
    "}\n",
    "\n",
    "for key, value in variables.items():\n",
    "    set_key(env_path, key, str(value))\n",
    "\n",
    "print(f\"Variables have been stored in .env file at {env_path}\")"
   ]
  }
 ],
 "metadata": {
  "kernelspec": {
   "display_name": "Python 3",
   "language": "python",
   "name": "python3"
  },
  "language_info": {
   "codemirror_mode": {
    "name": "ipython",
    "version": 3
   },
   "file_extension": ".py",
   "mimetype": "text/x-python",
   "name": "python",
   "nbconvert_exporter": "python",
   "pygments_lexer": "ipython3",
   "version": "3.9.16"
  }
 },
 "nbformat": 4,
 "nbformat_minor": 2
}
