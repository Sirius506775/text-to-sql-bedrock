{
 "cells": [
  {
   "cell_type": "markdown",
   "id": "8ba5b813-39b9-4cb7-b04f-71eda775f5fa",
   "metadata": {},
   "source": [
    "# MySQL 데이터 준비"
   ]
  },
  {
   "cell_type": "code",
   "execution_count": null,
   "id": "c9ec13e0-01f6-4cf4-943e-7fec30199974",
   "metadata": {},
   "outputs": [],
   "source": [
    "!python -m ensurepip --upgrade\n",
    "!pip install -U boto3 --quiet\n",
    "!pip install -U botocore --quiet\n",
    "!pip install langchain --quiet\n",
    "!pip install sqlalchemy --quiet\n",
    "!pip install mysql-connector-python --quiet\n",
    "!pip install pymysql --quiet"
   ]
  },
  {
   "cell_type": "code",
   "execution_count": null,
   "id": "5cb62ef0-cf78-4123-b891-5b0aa1f78e03",
   "metadata": {},
   "outputs": [],
   "source": [
    "import boto3\n",
    "import json\n",
    "import time\n",
    "import datetime\n",
    "import os\n",
    "\n",
    "import sqlalchemy\n",
    "from sqlalchemy import create_engine\n",
    "import mysql.connector"
   ]
  },
  {
   "cell_type": "markdown",
   "id": "7d74df10-039c-41e6-979c-f4902df2d988",
   "metadata": {},
   "source": [
    "아래는 실제 설치된 환경의 host / user / password 정보를 입력합니다.\n",
    "\n",
    "CloudFormation으로 리소스를 배포했다면 Output 탭에서 결과를 확인할 수 있습니다."
   ]
  },
  {
   "cell_type": "code",
   "execution_count": null,
   "id": "f5abd3cc-dd5f-49fb-b614-e2caa7a1fade",
   "metadata": {},
   "outputs": [],
   "source": [
    "# Define variables for database connection details\n",
    "db_info = {\n",
    "    'host': \"{database_host}\",# get these values from the output value of your cloudformation stack\n",
    "    'user': \"{database_username}\",\n",
    "    'password': \"{database_password}\",\n",
    "    'database': \"DEMO_DB\"\n",
    "}\n",
    "\n",
    "# Establish the database connection using the variables\n",
    "mydb = mysql.connector.connect(\n",
    "    host=db_info['host'],\n",
    "    user=db_info['user'],\n",
    "    password=db_info['password']\n",
    ")\n",
    "mycursor = mydb.cursor()"
   ]
  },
  {
   "cell_type": "code",
   "execution_count": null,
   "id": "9b619176-cb42-48c8-9a48-6b744a39a81f",
   "metadata": {},
   "outputs": [],
   "source": [
    "mycursor.execute(\"DROP DATABASE IF EXISTS DEMO_DB\")\n",
    "mycursor.execute(\"CREATE DATABASE DEMO_DB\")"
   ]
  },
  {
   "cell_type": "markdown",
   "id": "62778792-7cf6-4624-a7c4-51fc15dc1394",
   "metadata": {},
   "source": [
    "SQL Generation에 생성할 세 개의 테이블을 생성합니다."
   ]
  },
  {
   "cell_type": "code",
   "execution_count": null,
   "id": "7b543018-1ea8-46dd-8ebc-068c41a80d19",
   "metadata": {},
   "outputs": [],
   "source": [
    "mycursor.execute(\"DROP TABLE IF EXISTS DEMO_DB.EMPLOYEE_TABLE\")\n",
    "mycursor.execute(\"\"\"\n",
    "CREATE TABLE DEMO_DB.EMPLOYEE_TABLE -- Table name\n",
    "(\n",
    "    EMPID INT(10), -- employee id of the employee\n",
    "    NAME VARCHAR(20), -- name of the employee\n",
    "    SALARY INT(10), -- salary that the employee gets or makes (USD)\n",
    "    BONUS INT(10),-- bonus that the employee gets or makes (USD)\n",
    "    CITY VARCHAR(20), -- city where employees work from or belongs to\n",
    "    JOINING_DATE TIMESTAMP,-- date of joining for the employee\n",
    "    ACTIVE_EMPLOYEE INT(2), -- whether the employee is active(1) or in active(0)\n",
    "    DEPARTMENT VARCHAR(20), -- the deparment name where employee works or belongs to\n",
    "    TITLE VARCHAR(20) -- the title in office which employees has or holds\n",
    ")\n",
    "\"\"\")\n",
    "\n",
    "mycursor.execute(\"DROP TABLE IF EXISTS DEMO_DB.DEPARTMENT_TABLE\")\n",
    "mycursor.execute(\"\"\"\n",
    "CREATE TABLE DEMO_DB.DEPARTMENT_TABLE\n",
    "(\n",
    "    DEPT_ID INT(10) PRIMARY KEY, -- Department ID (Primary Key)\n",
    "    DEPT_NAME VARCHAR(20) NOT NULL, -- Department Name\n",
    "    LOCATION VARCHAR(20), -- Department Location\n",
    "    HEAD_COUNT INT(10), -- Number of Employees in the Department\n",
    "    BUDGET_ALLOCATION INT(15), -- Budget Allocated to the Department\n",
    "    MANAGER_ID INT(10) -- Manager ID of the Department\n",
    ")\n",
    "\"\"\")\n",
    "\n",
    "mycursor.execute(\"DROP TABLE IF EXISTS DEMO_DB.LEAVE_TABLE\")\n",
    "mycursor.execute(\"\"\"\n",
    "CREATE TABLE DEMO_DB.LEAVE_TABLE\n",
    "(\n",
    "  LEAVE_ID INT(10) PRIMARY KEY, -- Leave ID (Primary Key)\n",
    "  EMPLOYEE_ID INT(10) NOT NULL, -- Employee ID (Foreign Key referencing EMPLOYEE_TABLE)\n",
    "  LEAVE_TYPE VARCHAR(20) NOT NULL, -- Leave Type (e.g., Annual, Sick, Maternity)\n",
    "  START_DATE DATE NOT NULL, -- Start Date of the Leave\n",
    "  END_DATE DATE NOT NULL, -- End Date of the Leave\n",
    "  REASON VARCHAR(50) -- Reason for the Leave\n",
    ")\n",
    "\"\"\")"
   ]
  },
  {
   "cell_type": "code",
   "execution_count": null,
   "id": "480b3d76-3305-48f3-870e-d8594bf7e0a6",
   "metadata": {},
   "outputs": [],
   "source": [
    "def insert_data_from_json(cursor, db_info, json_directory='libs/mysql-samples/'):\n",
    "    json_files = {\n",
    "        'employee_table.json': ('DEMO_DB.EMPLOYEE_TABLE', ['EMPID', 'NAME', 'SALARY', 'BONUS', 'CITY', 'JOINING_DATE', 'ACTIVE_EMPLOYEE', 'DEPARTMENT', 'TITLE']),\n",
    "        'department_table.json': ('DEMO_DB.DEPARTMENT_TABLE', ['DEPT_ID', 'DEPT_NAME', 'LOCATION', 'HEAD_COUNT', 'BUDGET_ALLOCATION', 'MANAGER_ID']),\n",
    "        'leave_table.json': ('DEMO_DB.LEAVE_TABLE', ['LEAVE_ID', 'EMPLOYEE_ID', 'LEAVE_TYPE', 'START_DATE', 'END_DATE', 'REASON'])\n",
    "    }\n",
    "\n",
    "    try:\n",
    "        for json_file, (table_name, columns) in json_files.items():\n",
    "            full_path = json_directory + json_file  # construct the full path for each file\n",
    "            with open(full_path, 'r') as file:\n",
    "                data = json.load(file)\n",
    "            for record in data:\n",
    "                placeholders = ', '.join(['%s' for _ in columns])\n",
    "                values = tuple(record[col] for col in columns)\n",
    "                \n",
    "                sql = \"INSERT INTO {} ({}) VALUES ({})\".format(table_name, ', '.join(columns), placeholders)\n",
    "                cursor.execute(sql, values)\n",
    "                db_info.commit()  # ensure changes are committed to the database\n",
    "    except Exception as e:\n",
    "        print(f\"Error occurred: {e}\")\n"
   ]
  },
  {
   "cell_type": "markdown",
   "id": "2d3a30a6-4ebe-4261-b34c-e99afdf75bf5",
   "metadata": {},
   "source": [
    "libs/mysql-samples에 사전 저장된 샘플 데이터를 테이블에 삽입합니다."
   ]
  },
  {
   "cell_type": "code",
   "execution_count": null,
   "id": "fab07d59-1cac-4102-8bdc-d35565606acd",
   "metadata": {},
   "outputs": [],
   "source": [
    "insert_data_from_json(mycursor, db_info)"
   ]
  },
  {
   "cell_type": "markdown",
   "id": "adba8be1-f11b-48c1-890b-69dd80eae042",
   "metadata": {},
   "source": [
    "아래에 데이터가 조회되면 정상 처리된 것입니다."
   ]
  },
  {
   "cell_type": "code",
   "execution_count": null,
   "id": "a39a989f-a89c-41a0-b7a1-dbbe182e74e1",
   "metadata": {
    "scrolled": true
   },
   "outputs": [],
   "source": [
    "mycursor.execute(\"SELECT * FROM DEMO_DB.EMPLOYEE_TABLE\")\n",
    "employee_result = mycursor.fetchall()\n",
    "\n",
    "print(\"Employees:\")\n",
    "for employee in employee_result:\n",
    "    print(employee)\n",
    "\n",
    "mycursor.execute(\"SELECT * FROM DEMO_DB.DEPARTMENT_TABLE\")\n",
    "department_result = mycursor.fetchall()\n",
    "\n",
    "print(\"\\nDepartments:\")\n",
    "for department in department_result:\n",
    "    print(department)\n",
    "\n",
    "mycursor.execute(\"SELECT * FROM DEMO_DB.LEAVE_TABLE\")\n",
    "leave_result = mycursor.fetchall()\n",
    "\n",
    "print(\"\\nLeaves:\")\n",
    "for leave in leave_result:\n",
    "    print(leave)\n"
   ]
  },
  {
   "cell_type": "markdown",
   "id": "d2275b63-0db3-4551-9159-39f08d3e2958",
   "metadata": {},
   "source": [
    "# SQL 쿼리 생성 - LangChain SQLDatabase 활용"
   ]
  },
  {
   "cell_type": "code",
   "execution_count": null,
   "id": "ed2ace6a-9051-429c-8f89-c1e06d4c9449",
   "metadata": {},
   "outputs": [],
   "source": [
    "from langchain.sql_database import SQLDatabase\n",
    "import pymysql"
   ]
  },
  {
   "cell_type": "code",
   "execution_count": null,
   "id": "1e4e2997-f1fc-48be-b517-4724aea5a7ca",
   "metadata": {},
   "outputs": [],
   "source": [
    "url = f\"mysql+pymysql://{db_info['user']}:{db_info['password']}@{db_info['host']}/DEMO_DB\"\n",
    "db = SQLDatabase.from_uri(url)"
   ]
  },
  {
   "cell_type": "code",
   "execution_count": null,
   "id": "3c0faff2-1d93-48fb-b665-1b13be8ddb9d",
   "metadata": {},
   "outputs": [],
   "source": [
    "from langchain_community.chat_models import BedrockChat\n",
    "from langchain.callbacks.streaming_stdout import StreamingStdOutCallbackHandler"
   ]
  },
  {
   "cell_type": "code",
   "execution_count": null,
   "id": "4063e9bd-2e83-48b7-b615-507f76680a07",
   "metadata": {},
   "outputs": [],
   "source": [
    "bedrock_client = boto3.client(\n",
    "    service_name='bedrock-runtime'\n",
    ")\n",
    "\n",
    "llm = BedrockChat(\n",
    "\tmodel_id='anthropic.claude-3-haiku-20240307-v1:0',\n",
    "    streaming=True,\n",
    "    callbacks=[StreamingStdOutCallbackHandler()],\n",
    "\tmodel_kwargs={\"temperature\":0},\n",
    "\tclient=bedrock_client\n",
    ")"
   ]
  },
  {
   "cell_type": "markdown",
   "id": "417f6bd8-b7e7-4b3d-ae63-50c311a732b7",
   "metadata": {},
   "source": [
    "`create_sql_query_chain`은 데이터베이스의 스키마를 조회하고, 질문에 맞는 쿼리를 생성하는 작업을 자동으로 처리하는 Chain입니다.\n",
    "\n",
    "이 방법은 주로 소규모 데이터베이스를 대상으로 복잡도가 낮은 쿼리를 수행할 때 잘 동작합니다.\n",
    "\n",
    "- Chains: 사전에 결정되어 있는 연속된 작업 수행\n",
    "- Agents: 어떤 작업을 할 것인지 LLM이 판단해서 작업 수행\n",
    "\n",
    "SQL Chain에서 쿼리 생성에 사용하는 프롬프트 내용을 아래와 같이 조회할 수 있습니다."
   ]
  },
  {
   "cell_type": "code",
   "execution_count": null,
   "id": "735a5eb4-9006-4ef9-899f-7194043b91ea",
   "metadata": {},
   "outputs": [],
   "source": [
    "from langchain.chains import create_sql_query_chain"
   ]
  },
  {
   "cell_type": "code",
   "execution_count": null,
   "id": "afa4c5a9-9cea-4632-893f-6c94e3285c44",
   "metadata": {
    "scrolled": true
   },
   "outputs": [],
   "source": [
    "chain = create_sql_query_chain(llm, db)\n",
    "chain.get_prompts()[0].pretty_print()"
   ]
  },
  {
   "cell_type": "markdown",
   "id": "e4bdc706-9960-4650-9620-b6117ffd11a6",
   "metadata": {},
   "source": [
    "이제 사용자 질문을 SQL Chain에 전달하여 SQL 쿼리를 생성합니다."
   ]
  },
  {
   "cell_type": "code",
   "execution_count": null,
   "id": "14859e52-055b-4ecd-aec4-29e81c71485e",
   "metadata": {
    "scrolled": true
   },
   "outputs": [],
   "source": [
    "#question = \"각 부서에 있는 active employee의 수를 알려주세요\"\n",
    "#question = \"각 직원의 급여와 보너스를 합산한 'Total Compensation'을 계산하고, 총 급여가 가장 높은 부서를 알려주세요\"\n",
    "question = \"각 부서에서 가장 오랜 기간 휴가를 사용한 직원들의 Total Compensation (USD) 을 계산해주세요\"\n",
    "response = chain.invoke({\"question\":question})"
   ]
  },
  {
   "cell_type": "markdown",
   "id": "be49bf45-b228-4ebf-b860-93f6508376e8",
   "metadata": {},
   "source": [
    "# 생성된 SQL 쿼리 실행 및 답변 생성"
   ]
  },
  {
   "cell_type": "markdown",
   "id": "f20d1e80-8795-41b2-88b1-5fe99154c00e",
   "metadata": {},
   "source": [
    "답변에서 SQL 쿼리 부분을 파싱한 다음, 쿼리를 수행합니다."
   ]
  },
  {
   "cell_type": "code",
   "execution_count": null,
   "id": "91ce5906-f3f7-4b27-bf14-781a30860683",
   "metadata": {},
   "outputs": [],
   "source": [
    "SQL = response.split(\"SQLQuery:\")[1].strip()\n",
    "\n",
    "mycursor.execute(\"USE DEMO_DB\")\n",
    "mycursor.execute(SQL)\n",
    "myresult = mycursor.fetchall()\n",
    "print(myresult)"
   ]
  },
  {
   "cell_type": "markdown",
   "id": "c8f48685-fca6-4eb2-9beb-215fb66ee95a",
   "metadata": {},
   "source": [
    "쿼리 결과를 바탕으로 답변을 생성합니다."
   ]
  },
  {
   "cell_type": "code",
   "execution_count": null,
   "id": "97560e15-6ecf-4244-a271-9a79ba1600c8",
   "metadata": {},
   "outputs": [],
   "source": [
    "from langchain import PromptTemplate\n",
    "from langchain_core.messages import HumanMessage"
   ]
  },
  {
   "cell_type": "code",
   "execution_count": null,
   "id": "1bffb5ec-729d-4629-b934-3e2815129c28",
   "metadata": {},
   "outputs": [],
   "source": [
    "def answer_with_data(prompt, question, reference_data):\n",
    "    prompt_for_answer = PromptTemplate.from_template(prompt)\n",
    "    messages = [\n",
    "        HumanMessage(\n",
    "            content = prompt_for_answer.format(question=question, reference=reference_data)\n",
    "        )\n",
    "    ]\n",
    "    final_answer = llm(messages)\n",
    "    return final_answer"
   ]
  },
  {
   "cell_type": "code",
   "execution_count": null,
   "id": "98df0c43-246e-4519-a8a2-a9cadc6426a5",
   "metadata": {},
   "outputs": [],
   "source": [
    "prompt = \"\"\"\n",
    "Human: Based on the question below\n",
    "\n",
    "{question}\n",
    "\n",
    "the reference data were given below. \n",
    "\n",
    "{reference}\n",
    "\n",
    "Provide answer in simple Korean statement and don't include table or schema names.\n",
    "Assistant: \n",
    "\"\"\""
   ]
  },
  {
   "cell_type": "code",
   "execution_count": null,
   "id": "89da9e37-4835-426f-bc48-49aaddce2337",
   "metadata": {},
   "outputs": [],
   "source": [
    "final_answer = answer_with_data(prompt, question, myresult)"
   ]
  }
 ],
 "metadata": {
  "kernelspec": {
   "display_name": "Python 3 (ipykernel)",
   "language": "python",
   "name": "python3"
  },
  "language_info": {
   "codemirror_mode": {
    "name": "ipython",
    "version": 3
   },
   "file_extension": ".py",
   "mimetype": "text/x-python",
   "name": "python",
   "nbconvert_exporter": "python",
   "pygments_lexer": "ipython3",
   "version": "3.10.14"
  }
 },
 "nbformat": 4,
 "nbformat_minor": 5
}
