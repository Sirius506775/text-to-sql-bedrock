{
 "cells": [
  {
   "cell_type": "markdown",
   "id": "f6e04355-88a5-4e56-b1a2-a55568adcd89",
   "metadata": {},
   "source": [
    "# Lab. 4-1 Streamlit 애플리케이션 환경 설정\n"
   ]
  },
  {
   "cell_type": "code",
   "execution_count": null,
   "id": "99434666-135c-4320-877e-dee3e7093a50",
   "metadata": {
    "scrolled": true
   },
   "outputs": [],
   "source": [
    "!pip install streamlit"
   ]
  },
  {
   "cell_type": "markdown",
   "id": "d27cbb39-e3ab-43ea-a64e-5afe87e83b6e",
   "metadata": {},
   "source": [
    "### Streamlit 구동 환경을 설정합니다"
   ]
  },
  {
   "cell_type": "code",
   "execution_count": null,
   "id": "30bf6784-3e58-4c57-bafb-72cc4dbb124d",
   "metadata": {},
   "outputs": [],
   "source": [
    "%%bash\n",
    "mkdir -p ~/.streamlit\n",
    "cat > ~/.streamlit/config.toml <<EOF\n",
    "[server]\n",
    "enableXsrfProtection = false\n",
    "enableCORS = false\n",
    "EOF\n"
   ]
  },
  {
   "cell_type": "markdown",
   "id": "5248519f-00f3-431e-b6d4-6c2b9013bb2e",
   "metadata": {},
   "source": [
    "터미널에서 aws-kr-retail-cpg-genai/demo-app.py 파일 경로로 이동하여 아래 명령어를 실행\n",
    "\n",
    "`cd text-to-sql-bedrock/lab4_text2sql_app`\n",
    "\n",
    "`streamlit run demo-app.py --server.port 8505`\n",
    "\n",
    "위 명령어는 demo-app.py라는 Python 스크립트에 정의된 Streamlit 애플리케이션을 시작합니다. 해당 애플리케이션은 포트 번호 8505에서 서비스됩니다.\n",
    "\n",
    "#### 현재 브라우저의 URL을 복사해서 아래 url 변수에 입력"
   ]
  },
  {
   "cell_type": "code",
   "execution_count": null,
   "id": "6b75e019-4f41-487c-a41c-a72f6429e5a3",
   "metadata": {},
   "outputs": [],
   "source": [
    "url = \"\"\n",
    "# 형식 : \"https://.../setup-streamlit.ipynb\""
   ]
  },
  {
   "cell_type": "code",
   "execution_count": null,
   "id": "936f9733-4211-4ebe-b03d-61ee4580a122",
   "metadata": {},
   "outputs": [],
   "source": [
    "base_url = url.split(\"default/\")[0]\n",
    "new_url = base_url + \"default/proxy/8505/\"\n",
    "\n",
    "print(new_url)"
   ]
  }
 ],
 "metadata": {
  "kernelspec": {
   "display_name": "Python 3 (ipykernel)",
   "language": "python",
   "name": "python3"
  },
  "language_info": {
   "codemirror_mode": {
    "name": "ipython",
    "version": 3
   },
   "file_extension": ".py",
   "mimetype": "text/x-python",
   "name": "python",
   "nbconvert_exporter": "python",
   "pygments_lexer": "ipython3",
   "version": "3.10.14"
  }
 },
 "nbformat": 4,
 "nbformat_minor": 5
}
